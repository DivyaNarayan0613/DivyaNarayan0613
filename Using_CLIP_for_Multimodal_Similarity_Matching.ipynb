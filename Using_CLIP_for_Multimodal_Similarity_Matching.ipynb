{
  "cells": [
    {
      "cell_type": "markdown",
      "metadata": {
        "id": "view-in-github",
        "colab_type": "text"
      },
      "source": [
        "<a href=\"https://colab.research.google.com/github/DivyaNarayan0613/DivyaNarayan0613/blob/main/Using_CLIP_for_Multimodal_Similarity_Matching.ipynb\" target=\"_parent\"><img src=\"https://colab.research.google.com/assets/colab-badge.svg\" alt=\"Open In Colab\"/></a>"
      ]
    },
    {
      "cell_type": "markdown",
      "source": [
        "✅ Step 1: Install Required Packages\n",
        "\n",
        "Use the following command to install the correct versions:"
      ],
      "metadata": {
        "id": "5IROQISV8NOQ"
      },
      "id": "5IROQISV8NOQ"
    },
    {
      "cell_type": "code",
      "execution_count": null,
      "id": "79ebb009-5afe-4b55-b8c1-42ffe0a639ba",
      "metadata": {
        "id": "79ebb009-5afe-4b55-b8c1-42ffe0a639ba",
        "outputId": "5275420f-20d0-4236-bcf7-f54c8c8a32f1"
      },
      "outputs": [
        {
          "name": "stdout",
          "output_type": "stream",
          "text": [
            "Requirement already satisfied: torch in c:\\users\\divya\\anaconda3\\lib\\site-packages (2.4.1)\n",
            "Requirement already satisfied: torchvision in c:\\users\\divya\\anaconda3\\lib\\site-packages (0.19.1)\n",
            "Collecting ftfy\n",
            "  Using cached ftfy-6.3.1-py3-none-any.whl.metadata (7.3 kB)\n",
            "Requirement already satisfied: regex in c:\\users\\divya\\anaconda3\\lib\\site-packages (2023.10.3)\n",
            "Requirement already satisfied: tqdm in c:\\users\\divya\\anaconda3\\lib\\site-packages (4.66.4)\n",
            "Requirement already satisfied: filelock in c:\\users\\divya\\anaconda3\\lib\\site-packages (from torch) (3.13.1)\n",
            "Requirement already satisfied: typing-extensions>=4.8.0 in c:\\users\\divya\\anaconda3\\lib\\site-packages (from torch) (4.11.0)\n",
            "Requirement already satisfied: sympy in c:\\users\\divya\\anaconda3\\lib\\site-packages (from torch) (1.12)\n",
            "Requirement already satisfied: networkx in c:\\users\\divya\\anaconda3\\lib\\site-packages (from torch) (3.2.1)\n",
            "Requirement already satisfied: jinja2 in c:\\users\\divya\\anaconda3\\lib\\site-packages (from torch) (3.1.4)\n",
            "Requirement already satisfied: fsspec in c:\\users\\divya\\anaconda3\\lib\\site-packages (from torch) (2024.3.1)\n",
            "Requirement already satisfied: setuptools in c:\\users\\divya\\anaconda3\\lib\\site-packages (from torch) (75.6.0)\n",
            "Requirement already satisfied: numpy in c:\\users\\divya\\anaconda3\\lib\\site-packages (from torchvision) (1.26.4)\n",
            "Requirement already satisfied: pillow!=8.3.*,>=5.3.0 in c:\\users\\divya\\anaconda3\\lib\\site-packages (from torchvision) (10.4.0)\n",
            "Requirement already satisfied: wcwidth in c:\\users\\divya\\anaconda3\\lib\\site-packages (from ftfy) (0.2.5)\n",
            "Requirement already satisfied: colorama in c:\\users\\divya\\anaconda3\\lib\\site-packages (from tqdm) (0.4.6)\n",
            "Requirement already satisfied: MarkupSafe>=2.0 in c:\\users\\divya\\anaconda3\\lib\\site-packages (from jinja2->torch) (2.1.3)\n",
            "Requirement already satisfied: mpmath>=0.19 in c:\\users\\divya\\anaconda3\\lib\\site-packages (from sympy->torch) (1.3.0)\n",
            "Downloading ftfy-6.3.1-py3-none-any.whl (44 kB)\n",
            "   ---------------------------------------- 0.0/44.8 kB ? eta -:--:--\n",
            "   --------- ------------------------------ 10.2/44.8 kB ? eta -:--:--\n",
            "   ------------------------------------ --- 41.0/44.8 kB 393.8 kB/s eta 0:00:01\n",
            "   ---------------------------------------- 44.8/44.8 kB 367.9 kB/s eta 0:00:00\n",
            "Installing collected packages: ftfy\n",
            "Successfully installed ftfy-6.3.1\n",
            "Collecting git+https://github.com/openai/CLIP.git\n",
            "  Cloning https://github.com/openai/CLIP.git to c:\\users\\divya\\appdata\\local\\temp\\pip-req-build-00r8377z\n",
            "  Resolved https://github.com/openai/CLIP.git to commit dcba3cb2e2827b402d2701e7e1c7d9fed8a20ef1\n",
            "  Preparing metadata (setup.py): started\n",
            "  Preparing metadata (setup.py): finished with status 'done'\n",
            "Requirement already satisfied: ftfy in c:\\users\\divya\\anaconda3\\lib\\site-packages (from clip==1.0) (6.3.1)\n",
            "Requirement already satisfied: packaging in c:\\users\\divya\\anaconda3\\lib\\site-packages (from clip==1.0) (23.2)\n",
            "Requirement already satisfied: regex in c:\\users\\divya\\anaconda3\\lib\\site-packages (from clip==1.0) (2023.10.3)\n",
            "Requirement already satisfied: tqdm in c:\\users\\divya\\anaconda3\\lib\\site-packages (from clip==1.0) (4.66.4)\n",
            "Requirement already satisfied: torch in c:\\users\\divya\\anaconda3\\lib\\site-packages (from clip==1.0) (2.4.1)\n",
            "Requirement already satisfied: torchvision in c:\\users\\divya\\anaconda3\\lib\\site-packages (from clip==1.0) (0.19.1)\n",
            "Requirement already satisfied: wcwidth in c:\\users\\divya\\anaconda3\\lib\\site-packages (from ftfy->clip==1.0) (0.2.5)\n",
            "Requirement already satisfied: filelock in c:\\users\\divya\\anaconda3\\lib\\site-packages (from torch->clip==1.0) (3.13.1)\n",
            "Requirement already satisfied: typing-extensions>=4.8.0 in c:\\users\\divya\\anaconda3\\lib\\site-packages (from torch->clip==1.0) (4.11.0)\n",
            "Requirement already satisfied: sympy in c:\\users\\divya\\anaconda3\\lib\\site-packages (from torch->clip==1.0) (1.12)\n",
            "Requirement already satisfied: networkx in c:\\users\\divya\\anaconda3\\lib\\site-packages (from torch->clip==1.0) (3.2.1)\n",
            "Requirement already satisfied: jinja2 in c:\\users\\divya\\anaconda3\\lib\\site-packages (from torch->clip==1.0) (3.1.4)\n",
            "Requirement already satisfied: fsspec in c:\\users\\divya\\anaconda3\\lib\\site-packages (from torch->clip==1.0) (2024.3.1)\n",
            "Requirement already satisfied: setuptools in c:\\users\\divya\\anaconda3\\lib\\site-packages (from torch->clip==1.0) (75.6.0)\n",
            "Requirement already satisfied: numpy in c:\\users\\divya\\anaconda3\\lib\\site-packages (from torchvision->clip==1.0) (1.26.4)\n",
            "Requirement already satisfied: pillow!=8.3.*,>=5.3.0 in c:\\users\\divya\\anaconda3\\lib\\site-packages (from torchvision->clip==1.0) (10.4.0)\n",
            "Requirement already satisfied: colorama in c:\\users\\divya\\anaconda3\\lib\\site-packages (from tqdm->clip==1.0) (0.4.6)\n",
            "Requirement already satisfied: MarkupSafe>=2.0 in c:\\users\\divya\\anaconda3\\lib\\site-packages (from jinja2->torch->clip==1.0) (2.1.3)\n",
            "Requirement already satisfied: mpmath>=0.19 in c:\\users\\divya\\anaconda3\\lib\\site-packages (from sympy->torch->clip==1.0) (1.3.0)\n",
            "Building wheels for collected packages: clip\n",
            "  Building wheel for clip (setup.py): started\n",
            "  Building wheel for clip (setup.py): finished with status 'done'\n",
            "  Created wheel for clip: filename=clip-1.0-py3-none-any.whl size=1369570 sha256=d57f46aba5e5004bc81018825a43cb8067b68da7fccf62200495e0a8b6992056\n",
            "  Stored in directory: C:\\Users\\divya\\AppData\\Local\\Temp\\pip-ephem-wheel-cache-z29cg4ha\\wheels\\35\\3e\\df\\3d24cbfb3b6a06f17a2bfd7d1138900d4365d9028aa8f6e92f\n",
            "Successfully built clip\n",
            "Installing collected packages: clip\n",
            "Successfully installed clip-1.0\n"
          ]
        },
        {
          "name": "stderr",
          "output_type": "stream",
          "text": [
            "  Running command git clone --filter=blob:none --quiet https://github.com/openai/CLIP.git 'C:\\Users\\divya\\AppData\\Local\\Temp\\pip-req-build-00r8377z'\n"
          ]
        }
      ],
      "source": [
        "!pip install torch torchvision ftfy regex tqdm\n",
        "!pip install git+https://github.com/openai/CLIP.git\n"
      ]
    },
    {
      "cell_type": "markdown",
      "source": [
        "🔹 Step 2: Verify Installation\n",
        "\n",
        "After installation, check if CLIP loads correctly:"
      ],
      "metadata": {
        "id": "WwEsVMzG8Sn5"
      },
      "id": "WwEsVMzG8Sn5"
    },
    {
      "cell_type": "code",
      "execution_count": null,
      "id": "0215fe47-9275-4d60-b3cb-85676c974131",
      "metadata": {
        "id": "0215fe47-9275-4d60-b3cb-85676c974131",
        "outputId": "2feecc3e-fb96-4af8-acb4-ea96aafb401f"
      },
      "outputs": [
        {
          "name": "stderr",
          "output_type": "stream",
          "text": [
            "100%|███████████████████████████████████████| 338M/338M [00:30<00:00, 11.7MiB/s]\n"
          ]
        }
      ],
      "source": [
        "import torch\n",
        "import clip\n",
        "from PIL import Image\n",
        "\n",
        "# Load CLIP Model\n",
        "device = \"cuda\" if torch.cuda.is_available() else \"cpu\"\n",
        "model, preprocess = clip.load(\"ViT-B/32\", device=device)\n"
      ]
    },
    {
      "cell_type": "markdown",
      "source": [
        "Step 3: Load Images and Text\n",
        "\n",
        "Choose a few images and corresponding text descriptions."
      ],
      "metadata": {
        "id": "kVfYAwLj8YbA"
      },
      "id": "kVfYAwLj8YbA"
    },
    {
      "cell_type": "code",
      "execution_count": null,
      "id": "a1ffc756-69df-48c9-a3b5-2eb11f0e3c5c",
      "metadata": {
        "id": "a1ffc756-69df-48c9-a3b5-2eb11f0e3c5c"
      },
      "outputs": [],
      "source": [
        "# Load and preprocess images\n",
        "image_paths = [r\"C:\\Users\\divya\\Downloads\\image1.jpg\", r\"C:\\Users\\divya\\Downloads\\image2.jpg\", r\"C:\\Users\\divya\\Downloads\\image3.jpg\"]  # Replace with your images\n",
        "images = [preprocess(Image.open(img)).unsqueeze(0).to(device) for img in image_paths]\n",
        "\n",
        "# Text descriptions\n",
        "texts = [\n",
        "    \"A beautiful sunset over the mountains.\",\n",
        "    \"A dog playing in the park.\",\n",
        "    \"A futuristic cityscape with neon lights.\"\n",
        "]\n"
      ]
    },
    {
      "cell_type": "markdown",
      "source": [
        "Step 4: Compute Image & Text Embeddings"
      ],
      "metadata": {
        "id": "V2n8BPR98ePG"
      },
      "id": "V2n8BPR98ePG"
    },
    {
      "cell_type": "code",
      "execution_count": null,
      "id": "8c4c2968-ed76-477b-812c-5a43df65b56f",
      "metadata": {
        "id": "8c4c2968-ed76-477b-812c-5a43df65b56f"
      },
      "outputs": [],
      "source": [
        "# Compute embeddings\n",
        "with torch.no_grad():\n",
        "    image_features = torch.cat([model.encode_image(img) for img in images])\n",
        "    text_features = model.encode_text(clip.tokenize(texts).to(device))\n",
        "\n",
        "# Normalize embeddings\n",
        "image_features /= image_features.norm(dim=-1, keepdim=True)\n",
        "text_features /= text_features.norm(dim=-1, keepdim=True)\n"
      ]
    },
    {
      "cell_type": "markdown",
      "source": [
        "Step 5: Compute Similarities"
      ],
      "metadata": {
        "id": "e9RsVeGJ8gnW"
      },
      "id": "e9RsVeGJ8gnW"
    },
    {
      "cell_type": "code",
      "execution_count": null,
      "id": "51936437-9afe-44b6-94d0-7debbda90a17",
      "metadata": {
        "id": "51936437-9afe-44b6-94d0-7debbda90a17",
        "outputId": "bda61f63-0abf-4cd5-fe2b-3a50dcd21ce6"
      },
      "outputs": [
        {
          "name": "stdout",
          "output_type": "stream",
          "text": [
            "Image: C:\\Users\\divya\\Downloads\\image1.jpg\n",
            "Best Matched Text: A beautiful sunset over the mountains.\n",
            "\n",
            "Image: C:\\Users\\divya\\Downloads\\image2.jpg\n",
            "Best Matched Text: A dog playing in the park.\n",
            "\n",
            "Image: C:\\Users\\divya\\Downloads\\image3.jpg\n",
            "Best Matched Text: A futuristic cityscape with neon lights.\n",
            "\n"
          ]
        }
      ],
      "source": [
        "# Compute similarity scores\n",
        "similarity = (image_features @ text_features.T).cpu().numpy()\n",
        "\n",
        "# Find the best matches\n",
        "import numpy as np\n",
        "best_matches = np.argmax(similarity, axis=1)\n",
        "\n",
        "# Print results\n",
        "for i, img_path in enumerate(image_paths):\n",
        "    print(f\"Image: {img_path}\")\n",
        "    print(f\"Best Matched Text: {texts[best_matches[i]]}\\n\")\n"
      ]
    },
    {
      "cell_type": "code",
      "execution_count": null,
      "id": "1c088fbd-b393-4f08-b6eb-46c4991bc26f",
      "metadata": {
        "id": "1c088fbd-b393-4f08-b6eb-46c4991bc26f"
      },
      "outputs": [],
      "source": []
    }
  ],
  "metadata": {
    "kernelspec": {
      "display_name": "Python 3 (ipykernel)",
      "language": "python",
      "name": "python3"
    },
    "language_info": {
      "codemirror_mode": {
        "name": "ipython",
        "version": 3
      },
      "file_extension": ".py",
      "mimetype": "text/x-python",
      "name": "python",
      "nbconvert_exporter": "python",
      "pygments_lexer": "ipython3",
      "version": "3.12.3"
    },
    "colab": {
      "provenance": [],
      "include_colab_link": true
    }
  },
  "nbformat": 4,
  "nbformat_minor": 5
}