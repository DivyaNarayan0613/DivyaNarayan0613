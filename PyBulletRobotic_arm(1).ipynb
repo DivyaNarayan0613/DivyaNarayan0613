{
  "cells": [
    {
      "cell_type": "markdown",
      "metadata": {
        "id": "view-in-github",
        "colab_type": "text"
      },
      "source": [
        "<a href=\"https://colab.research.google.com/github/DivyaNarayan0613/DivyaNarayan0613/blob/main/PyBulletRobotic_arm(1).ipynb\" target=\"_parent\"><img src=\"https://colab.research.google.com/assets/colab-badge.svg\" alt=\"Open In Colab\"/></a>"
      ]
    },
    {
      "cell_type": "markdown",
      "id": "f47dce00-3f51-4e9e-b21a-5b9c9018d1fb",
      "metadata": {
        "id": "f47dce00-3f51-4e9e-b21a-5b9c9018d1fb"
      },
      "source": [
        "This PyBullet script sets up a simulation with a Franka Panda robot, a table, a tray, and a random object. The robot performs a sequence of movements to pick up the object."
      ]
    },
    {
      "cell_type": "markdown",
      "id": "cedb5c27-ced0-4226-b5f9-98e60bfc16d9",
      "metadata": {
        "id": "cedb5c27-ced0-4226-b5f9-98e60bfc16d9"
      },
      "source": [
        "This program simulates a Franka Panda robotic arm in PyBullet, making it pick up an object from a table using its gripper."
      ]
    },
    {
      "cell_type": "markdown",
      "id": "1d7d17da-1221-445c-8cb6-623fd8f0c82c",
      "metadata": {
        "id": "1d7d17da-1221-445c-8cb6-623fd8f0c82c"
      },
      "source": [
        "1. Importing Libraries\n",
        "   \n",
        "os: Used for handling file paths.\n",
        "\n",
        "pybullet: The physics simulation engine.\n",
        "\n",
        "pybullet_data: Contains predefined URDF (Universal Robot Description Format) models.\n",
        "\n",
        "math: Used for angle calculations (e.g., math.pi for π).\n",
        "\n",
        "time: Used to slow down the simulation for stability."
      ]
    },
    {
      "cell_type": "markdown",
      "id": "64637797-deb3-4d17-af95-5407f33be3d3",
      "metadata": {
        "id": "64637797-deb3-4d17-af95-5407f33be3d3"
      },
      "source": [
        "2. Connecting to PyBullet\n",
        "\n",
        "p.connect(p.GUI): Starts the PyBullet physics engine in GUI mode.\n",
        "    \n",
        "pybullet_data.getDataPath(): Gets the directory path where predefined robot models (URDF files) are stored."
      ]
    },
    {
      "cell_type": "markdown",
      "id": "a004c6dd-2101-4eb0-adbf-2f5667b37467",
      "metadata": {
        "id": "a004c6dd-2101-4eb0-adbf-2f5667b37467"
      },
      "source": [
        "3. Loading the Simulation Environment\n",
        "Loads the Franka Panda robot, table, tray, and random object into the simulation\n",
        "\n",
        "useFixedBase=True: Ensures the robotic arm does not move."
      ]
    },
    {
      "cell_type": "markdown",
      "id": "7fcd8fed-ca53-4d77-a065-f9d26dd754f1",
      "metadata": {
        "id": "7fcd8fed-ca53-4d77-a065-f9d26dd754f1"
      },
      "source": [
        "4. Setting Gravity\n",
        "\n",
        "Sets the gravity force in the Z-direction (downwards).\n",
        "\n",
        "5. Setting Up the Camera\n",
        "p.resetDebugVisualizerCamera(cameraDistance=1.5, cameraYaw=0, cameraPitch=-40, cameraTargetPosition=[0.55, -0.35, 0.2])\n",
        "\n",
        "Positions the simulation camera for better visualization.\n",
        "\n",
        "6. Defining Time Control Variables\n",
        "\n",
        "control_dt = 1/240: Defines the simulation time step (frames per second).\n",
        "\n",
        "p.setTimeStep(control_dt): Ensures simulation consistency.\n",
        "\n",
        "7. State Machine for Robot Movements\n",
        "   \n",
        "state_durations: List defining how long each movement step should last.\n",
        "\n",
        "state_t: Tracks time spent in the current state.\n",
        "\n",
        "current_state: Tracks which movement step the robot is in.\n",
        "\n",
        "8. Main Simulation Loop\n",
        "   \n",
        "Runs continuously until the user stops it.\n",
        "\n",
        "Updates time tracking (state_t).\n",
        "\n",
        "p.configureDebugVisualizer(p.COV_ENABLE_SINGLE_STEP_RENDERING) ensures smooth rendering.\n",
        "\n",
        "\n"
      ]
    },
    {
      "cell_type": "markdown",
      "id": "6be7823f-1c9a-469b-aad7-261cd21f8e66",
      "metadata": {
        "id": "6be7823f-1c9a-469b-aad7-261cd21f8e66"
      },
      "source": [
        "9. Movement Stages of the Robot\n",
        "\n",
        "The robot moves through 4 states to pick up an object.\n",
        "\n",
        "State 0: Move Arm to Initial Position\n",
        "\n",
        "Moves the robot arm to an initial pre-grasp position.\n",
        "\n",
        "Opens the gripper (joint 9 and joint 10)."
      ]
    },
    {
      "cell_type": "markdown",
      "id": "d4f2fb47-dca4-45c0-8125-8052e92fc302",
      "metadata": {
        "id": "d4f2fb47-dca4-45c0-8125-8052e92fc302"
      },
      "source": [
        "State 1: Adjust Arm Position to Align with Object - Moves the arm slightly downward towards the object.\n",
        "\n",
        "State 2: Close Gripper to Pick Up Object - Closes the gripper tightly to grasp the object.\n",
        "\n",
        "State 3: Lift Object Up - Lifts the object upwards after grasping.\n",
        "\n",
        "\n",
        "\n"
      ]
    },
    {
      "cell_type": "markdown",
      "id": "e3d9fbf5-8730-4158-ae90-c1618c731803",
      "metadata": {
        "id": "e3d9fbf5-8730-4158-ae90-c1618c731803"
      },
      "source": [
        "10. Transition to the Next State\n",
        "Moves to the next state when state_t exceeds the duration for the current step.\n",
        "    \n",
        "Resets to state 0 after completing all states."
      ]
    },
    {
      "cell_type": "markdown",
      "id": "7cadc9fc-5f8b-4fde-927b-c2ccef83d8c7",
      "metadata": {
        "id": "7cadc9fc-5f8b-4fde-927b-c2ccef83d8c7"
      },
      "source": [
        "11. Simulate Each Step & Add Delay\n",
        "\n",
        "p.stepSimulation() advances the physics simulation.\n",
        "\n",
        "time.sleep(control_dt) slows down the loop for stability."
      ]
    },
    {
      "cell_type": "code",
      "execution_count": null,
      "id": "1efce4bc-0543-494d-a810-f7f5ca53ea90",
      "metadata": {
        "id": "1efce4bc-0543-494d-a810-f7f5ca53ea90",
        "outputId": "791872d8-7285-4ce6-f3c0-4278b02bc986"
      },
      "outputs": [
        {
          "ename": "error",
          "evalue": "Not connected to physics server.",
          "output_type": "error",
          "traceback": [
            "\u001b[1;31m---------------------------------------------------------------------------\u001b[0m",
            "\u001b[1;31merror\u001b[0m                                     Traceback (most recent call last)",
            "Cell \u001b[1;32mIn[4], line 47\u001b[0m\n\u001b[0;32m     44\u001b[0m     p\u001b[38;5;241m.\u001b[39msetJointMotorControl2(pandaUid, \u001b[38;5;241m10\u001b[39m, p\u001b[38;5;241m.\u001b[39mPOSITION_CONTROL, \u001b[38;5;241m0.08\u001b[39m)\n\u001b[0;32m     46\u001b[0m \u001b[38;5;28;01melif\u001b[39;00m current_state \u001b[38;5;241m==\u001b[39m \u001b[38;5;241m1\u001b[39m:  \u001b[38;5;66;03m# Slight adjustment for gripping\u001b[39;00m\n\u001b[1;32m---> 47\u001b[0m     p\u001b[38;5;241m.\u001b[39msetJointMotorControl2(pandaUid, \u001b[38;5;241m1\u001b[39m, p\u001b[38;5;241m.\u001b[39mPOSITION_CONTROL, math\u001b[38;5;241m.\u001b[39mpi \u001b[38;5;241m/\u001b[39m \u001b[38;5;241m4.0\u001b[39m \u001b[38;5;241m+\u001b[39m \u001b[38;5;241m0.15\u001b[39m)\n\u001b[0;32m     48\u001b[0m     p\u001b[38;5;241m.\u001b[39msetJointMotorControl2(pandaUid, \u001b[38;5;241m3\u001b[39m, p\u001b[38;5;241m.\u001b[39mPOSITION_CONTROL, \u001b[38;5;241m-\u001b[39mmath\u001b[38;5;241m.\u001b[39mpi \u001b[38;5;241m/\u001b[39m \u001b[38;5;241m2.0\u001b[39m \u001b[38;5;241m+\u001b[39m \u001b[38;5;241m0.15\u001b[39m)\n\u001b[0;32m     50\u001b[0m \u001b[38;5;28;01melif\u001b[39;00m current_state \u001b[38;5;241m==\u001b[39m \u001b[38;5;241m2\u001b[39m:  \u001b[38;5;66;03m# Close gripper (grasp object)\u001b[39;00m\n",
            "\u001b[1;31merror\u001b[0m: Not connected to physics server."
          ]
        }
      ],
      "source": [
        "import os\n",
        "import pybullet as p\n",
        "import pybullet_data\n",
        "import math\n",
        "import time  # Import time for delay\n",
        "\n",
        "# Connect to PyBullet\n",
        "p.connect(p.GUI)\n",
        "urdfRootPath = pybullet_data.getDataPath()\n",
        "\n",
        "# Load URDF models\n",
        "pandaUid = p.loadURDF(os.path.join(urdfRootPath, \"franka_panda/panda.urdf\"), useFixedBase=True)\n",
        "tableUid = p.loadURDF(os.path.join(urdfRootPath, \"table/table.urdf\"), basePosition=[0.5, 0, -0.65])\n",
        "trayUid = p.loadURDF(os.path.join(urdfRootPath, \"tray/traybox.urdf\"), basePosition=[0.65, 0, 0])\n",
        "objectUid = p.loadURDF(os.path.join(urdfRootPath, \"random_urdfs/000/000.urdf\"), basePosition=[0.7, 0, 0.1])\n",
        "\n",
        "# Set gravity\n",
        "p.setGravity(0, 0, -10)\n",
        "\n",
        "# Camera setup\n",
        "p.resetDebugVisualizerCamera(cameraDistance=1.5, cameraYaw=0, cameraPitch=-40, cameraTargetPosition=[0.55, -0.35, 0.2])\n",
        "\n",
        "# Time step and state control\n",
        "control_dt = 1.0 / 240.0\n",
        "p.setTimeStep(control_dt)\n",
        "\n",
        "state_durations = [1, 1, 1, 1]  # Duration for each state\n",
        "state_t = 0.0\n",
        "current_state = 0\n",
        "\n",
        "while True:\n",
        "    state_t += control_dt\n",
        "    p.configureDebugVisualizer(p.COV_ENABLE_SINGLE_STEP_RENDERING)\n",
        "\n",
        "    if current_state == 0:  # Move arm to initial grasp position\n",
        "        p.setJointMotorControl2(pandaUid, 0, p.POSITION_CONTROL, 0)\n",
        "        p.setJointMotorControl2(pandaUid, 1, p.POSITION_CONTROL, math.pi / 4.0)\n",
        "        p.setJointMotorControl2(pandaUid, 2, p.POSITION_CONTROL, 0)\n",
        "        p.setJointMotorControl2(pandaUid, 3, p.POSITION_CONTROL, -math.pi / 2.0)\n",
        "        p.setJointMotorControl2(pandaUid, 4, p.POSITION_CONTROL, 0)\n",
        "        p.setJointMotorControl2(pandaUid, 5, p.POSITION_CONTROL, 3 * math.pi / 4.0)\n",
        "        p.setJointMotorControl2(pandaUid, 6, p.POSITION_CONTROL, -math.pi / 4.0)\n",
        "        p.setJointMotorControl2(pandaUid, 9, p.POSITION_CONTROL, 0.08)  # Open gripper\n",
        "        p.setJointMotorControl2(pandaUid, 10, p.POSITION_CONTROL, 0.08)\n",
        "\n",
        "    elif current_state == 1:  # Slight adjustment for gripping\n",
        "        p.setJointMotorControl2(pandaUid, 1, p.POSITION_CONTROL, math.pi / 4.0 + 0.15)\n",
        "        p.setJointMotorControl2(pandaUid, 3, p.POSITION_CONTROL, -math.pi / 2.0 + 0.15)\n",
        "\n",
        "    elif current_state == 2:  # Close gripper (grasp object)\n",
        "        p.setJointMotorControl2(pandaUid, 9, p.POSITION_CONTROL, 0.0, force=200)\n",
        "        p.setJointMotorControl2(pandaUid, 10, p.POSITION_CONTROL, 0.0, force=200)\n",
        "\n",
        "    elif current_state == 3:  # Lift object up\n",
        "        p.setJointMotorControl2(pandaUid, 1, p.POSITION_CONTROL, math.pi / 4.0 - 1.0)\n",
        "        p.setJointMotorControl2(pandaUid, 3, p.POSITION_CONTROL, -math.pi / 2.0 - 1.0)\n",
        "\n",
        "    # Transition to the next state\n",
        "    if state_t > state_durations[current_state]:\n",
        "        current_state += 1\n",
        "        if current_state >= len(state_durations):\n",
        "            current_state = 0  # Restart cycle\n",
        "        state_t = 0\n",
        "\n",
        "    p.stepSimulation()\n",
        "    time.sleep(control_dt)  # Add delay for stable simulation\n"
      ]
    },
    {
      "cell_type": "code",
      "execution_count": null,
      "id": "240bdd35-092e-42b7-93b3-3da8357fba50",
      "metadata": {
        "id": "240bdd35-092e-42b7-93b3-3da8357fba50"
      },
      "outputs": [],
      "source": []
    },
    {
      "cell_type": "code",
      "execution_count": null,
      "id": "0b6828e6-e17e-4b32-8f04-4624e016d364",
      "metadata": {
        "id": "0b6828e6-e17e-4b32-8f04-4624e016d364"
      },
      "outputs": [],
      "source": []
    }
  ],
  "metadata": {
    "kernelspec": {
      "display_name": "Python 3 (ipykernel)",
      "language": "python",
      "name": "python3"
    },
    "language_info": {
      "codemirror_mode": {
        "name": "ipython",
        "version": 3
      },
      "file_extension": ".py",
      "mimetype": "text/x-python",
      "name": "python",
      "nbconvert_exporter": "python",
      "pygments_lexer": "ipython3",
      "version": "3.12.3"
    },
    "colab": {
      "provenance": [],
      "include_colab_link": true
    }
  },
  "nbformat": 4,
  "nbformat_minor": 5
}