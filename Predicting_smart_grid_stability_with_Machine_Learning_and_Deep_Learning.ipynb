{
  "nbformat": 4,
  "nbformat_minor": 0,
  "metadata": {
    "colab": {
      "name": "Predicting smart grid stability with Machine Learning and Deep Learning.ipynb",
      "provenance": [],
      "collapsed_sections": []
    },
    "kernelspec": {
      "name": "python3",
      "display_name": "Python 3"
    },
    "language_info": {
      "name": "python"
    }
  },
  "cells": [
    {
      "cell_type": "markdown",
      "metadata": {
        "id": "vcNpteQudZZb"
      },
      "source": [
        "This hands on sessions is inspired from \"https://www.kaggle.com/pcbreviglieri/predicting-smart-grid-stability-with-deep-learning\" \n",
        "\n",
        "I thank UCI Machine Learning Repository for hosting the dataset.\n"
      ]
    },
    {
      "cell_type": "code",
      "metadata": {
        "id": "AfBkWZLIcc6_"
      },
      "source": [
        "# import the required libraries\n",
        "import pandas as pd\n",
        "import numpy as np\n",
        "import matplotlib.pyplot as plt\n",
        "import os"
      ],
      "execution_count": null,
      "outputs": []
    },
    {
      "cell_type": "code",
      "metadata": {
        "id": "eCCd8RuPjm0Z",
        "colab": {
          "resources": {
            "http://localhost:8080/nbextensions/google.colab/files.js": {
              "data": "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",
              "ok": true,
              "headers": [
                [
                  "content-type",
                  "application/javascript"
                ]
              ],
              "status": 200,
              "status_text": "OK"
            }
          },
          "base_uri": "https://localhost:8080/",
          "height": 75
        },
        "outputId": "72c37e35-dbe7-4f24-dc9f-b3aec8d17b76"
      },
      "source": [
        "# download the dataset and save it on the local system\n",
        "# upload the dataset.\n",
        "from google.colab import files\n",
        "uploaded=files.upload()"
      ],
      "execution_count": null,
      "outputs": [
        {
          "output_type": "display_data",
          "data": {
            "text/html": [
              "\n",
              "     <input type=\"file\" id=\"files-28d4e72a-6562-4182-86b6-c524cfa96617\" name=\"files[]\" multiple disabled\n",
              "        style=\"border:none\" />\n",
              "     <output id=\"result-28d4e72a-6562-4182-86b6-c524cfa96617\">\n",
              "      Upload widget is only available when the cell has been executed in the\n",
              "      current browser session. Please rerun this cell to enable.\n",
              "      </output>\n",
              "      <script src=\"/nbextensions/google.colab/files.js\"></script> "
            ],
            "text/plain": [
              "<IPython.core.display.HTML object>"
            ]
          },
          "metadata": {}
        },
        {
          "output_type": "stream",
          "name": "stdout",
          "text": [
            "Saving smart_grid_stability_augmented.csv.zip to smart_grid_stability_augmented.csv.zip\n"
          ]
        }
      ]
    },
    {
      "cell_type": "code",
      "metadata": {
        "id": "HWk1DkTdhPvm"
      },
      "source": [
        "# the uploaded dataset is in zipped file format. \n",
        "#The zipped file needs to be extracted and it is done in the read mode\n",
        "import os\n",
        "import io\n",
        "import zipfile\n",
        "zf = zipfile.ZipFile(io.BytesIO(uploaded['smart_grid_stability_augmented.csv.zip']), \"r\")\n",
        "zf.extractall()"
      ],
      "execution_count": null,
      "outputs": []
    },
    {
      "cell_type": "code",
      "metadata": {
        "id": "k9kYDjenjDg3"
      },
      "source": [
        "# The extracted file is put in the dataframe to read it in terms of rows and columns\n",
        "df=pd.read_csv('smart_grid_stability_augmented.csv')"
      ],
      "execution_count": null,
      "outputs": []
    },
    {
      "cell_type": "code",
      "metadata": {
        "colab": {
          "base_uri": "https://localhost:8080/",
          "height": 226
        },
        "id": "xHPhQ28vhsA4",
        "outputId": "15865cab-fbaf-4c1c-ec09-def94c75bf84"
      },
      "source": [
        "# To read the first five row entries of the dataset\n",
        "df.head()"
      ],
      "execution_count": null,
      "outputs": [
        {
          "output_type": "execute_result",
          "data": {
            "text/html": [
              "<div>\n",
              "<style scoped>\n",
              "    .dataframe tbody tr th:only-of-type {\n",
              "        vertical-align: middle;\n",
              "    }\n",
              "\n",
              "    .dataframe tbody tr th {\n",
              "        vertical-align: top;\n",
              "    }\n",
              "\n",
              "    .dataframe thead th {\n",
              "        text-align: right;\n",
              "    }\n",
              "</style>\n",
              "<table border=\"1\" class=\"dataframe\">\n",
              "  <thead>\n",
              "    <tr style=\"text-align: right;\">\n",
              "      <th></th>\n",
              "      <th>tau1</th>\n",
              "      <th>tau2</th>\n",
              "      <th>tau3</th>\n",
              "      <th>tau4</th>\n",
              "      <th>p1</th>\n",
              "      <th>p2</th>\n",
              "      <th>p3</th>\n",
              "      <th>p4</th>\n",
              "      <th>g1</th>\n",
              "      <th>g2</th>\n",
              "      <th>g3</th>\n",
              "      <th>g4</th>\n",
              "      <th>stab</th>\n",
              "      <th>stabf</th>\n",
              "    </tr>\n",
              "  </thead>\n",
              "  <tbody>\n",
              "    <tr>\n",
              "      <th>0</th>\n",
              "      <td>2.959060</td>\n",
              "      <td>3.079885</td>\n",
              "      <td>8.381025</td>\n",
              "      <td>9.780754</td>\n",
              "      <td>3.763085</td>\n",
              "      <td>-0.782604</td>\n",
              "      <td>-1.257395</td>\n",
              "      <td>-1.723086</td>\n",
              "      <td>0.650456</td>\n",
              "      <td>0.859578</td>\n",
              "      <td>0.887445</td>\n",
              "      <td>0.958034</td>\n",
              "      <td>0.055347</td>\n",
              "      <td>unstable</td>\n",
              "    </tr>\n",
              "    <tr>\n",
              "      <th>1</th>\n",
              "      <td>9.304097</td>\n",
              "      <td>4.902524</td>\n",
              "      <td>3.047541</td>\n",
              "      <td>1.369357</td>\n",
              "      <td>5.067812</td>\n",
              "      <td>-1.940058</td>\n",
              "      <td>-1.872742</td>\n",
              "      <td>-1.255012</td>\n",
              "      <td>0.413441</td>\n",
              "      <td>0.862414</td>\n",
              "      <td>0.562139</td>\n",
              "      <td>0.781760</td>\n",
              "      <td>-0.005957</td>\n",
              "      <td>stable</td>\n",
              "    </tr>\n",
              "    <tr>\n",
              "      <th>2</th>\n",
              "      <td>8.971707</td>\n",
              "      <td>8.848428</td>\n",
              "      <td>3.046479</td>\n",
              "      <td>1.214518</td>\n",
              "      <td>3.405158</td>\n",
              "      <td>-1.207456</td>\n",
              "      <td>-1.277210</td>\n",
              "      <td>-0.920492</td>\n",
              "      <td>0.163041</td>\n",
              "      <td>0.766689</td>\n",
              "      <td>0.839444</td>\n",
              "      <td>0.109853</td>\n",
              "      <td>0.003471</td>\n",
              "      <td>unstable</td>\n",
              "    </tr>\n",
              "    <tr>\n",
              "      <th>3</th>\n",
              "      <td>0.716415</td>\n",
              "      <td>7.669600</td>\n",
              "      <td>4.486641</td>\n",
              "      <td>2.340563</td>\n",
              "      <td>3.963791</td>\n",
              "      <td>-1.027473</td>\n",
              "      <td>-1.938944</td>\n",
              "      <td>-0.997374</td>\n",
              "      <td>0.446209</td>\n",
              "      <td>0.976744</td>\n",
              "      <td>0.929381</td>\n",
              "      <td>0.362718</td>\n",
              "      <td>0.028871</td>\n",
              "      <td>unstable</td>\n",
              "    </tr>\n",
              "    <tr>\n",
              "      <th>4</th>\n",
              "      <td>3.134112</td>\n",
              "      <td>7.608772</td>\n",
              "      <td>4.943759</td>\n",
              "      <td>9.857573</td>\n",
              "      <td>3.525811</td>\n",
              "      <td>-1.125531</td>\n",
              "      <td>-1.845975</td>\n",
              "      <td>-0.554305</td>\n",
              "      <td>0.797110</td>\n",
              "      <td>0.455450</td>\n",
              "      <td>0.656947</td>\n",
              "      <td>0.820923</td>\n",
              "      <td>0.049860</td>\n",
              "      <td>unstable</td>\n",
              "    </tr>\n",
              "  </tbody>\n",
              "</table>\n",
              "</div>"
            ],
            "text/plain": [
              "       tau1      tau2      tau3  ...        g4      stab     stabf\n",
              "0  2.959060  3.079885  8.381025  ...  0.958034  0.055347  unstable\n",
              "1  9.304097  4.902524  3.047541  ...  0.781760 -0.005957    stable\n",
              "2  8.971707  8.848428  3.046479  ...  0.109853  0.003471  unstable\n",
              "3  0.716415  7.669600  4.486641  ...  0.362718  0.028871  unstable\n",
              "4  3.134112  7.608772  4.943759  ...  0.820923  0.049860  unstable\n",
              "\n",
              "[5 rows x 14 columns]"
            ]
          },
          "metadata": {},
          "execution_count": 5
        }
      ]
    },
    {
      "cell_type": "code",
      "metadata": {
        "id": "GU1wSaCFec_q"
      },
      "source": [
        "# Machine Learning algorithms can read only numbers. \n",
        "#So categorical data such as stable and unstable is mapped to be in 1 and 0 respectively in the dataset.\n",
        "map1 = {'unstable': 0, 'stable': 1}\n",
        "df['stabf'] = df['stabf'].replace(map1)\n",
        "\n",
        "df = df.sample(frac=1)"
      ],
      "execution_count": null,
      "outputs": []
    },
    {
      "cell_type": "code",
      "metadata": {
        "colab": {
          "base_uri": "https://localhost:8080/",
          "height": 226
        },
        "id": "QQHR5e7SjJAQ",
        "outputId": "d4eca0c0-35e0-4aac-bae2-5f9ed08aabff"
      },
      "source": [
        "# Just to ensure it is mapped we are again reading the first 5 row entries of the dataframe\n",
        "df.head()"
      ],
      "execution_count": null,
      "outputs": [
        {
          "output_type": "execute_result",
          "data": {
            "text/html": [
              "<div>\n",
              "<style scoped>\n",
              "    .dataframe tbody tr th:only-of-type {\n",
              "        vertical-align: middle;\n",
              "    }\n",
              "\n",
              "    .dataframe tbody tr th {\n",
              "        vertical-align: top;\n",
              "    }\n",
              "\n",
              "    .dataframe thead th {\n",
              "        text-align: right;\n",
              "    }\n",
              "</style>\n",
              "<table border=\"1\" class=\"dataframe\">\n",
              "  <thead>\n",
              "    <tr style=\"text-align: right;\">\n",
              "      <th></th>\n",
              "      <th>tau1</th>\n",
              "      <th>tau2</th>\n",
              "      <th>tau3</th>\n",
              "      <th>tau4</th>\n",
              "      <th>p1</th>\n",
              "      <th>p2</th>\n",
              "      <th>p3</th>\n",
              "      <th>p4</th>\n",
              "      <th>g1</th>\n",
              "      <th>g2</th>\n",
              "      <th>g3</th>\n",
              "      <th>g4</th>\n",
              "      <th>stab</th>\n",
              "      <th>stabf</th>\n",
              "    </tr>\n",
              "  </thead>\n",
              "  <tbody>\n",
              "    <tr>\n",
              "      <th>19125</th>\n",
              "      <td>2.446174</td>\n",
              "      <td>9.664811</td>\n",
              "      <td>7.758264</td>\n",
              "      <td>6.436782</td>\n",
              "      <td>4.372395</td>\n",
              "      <td>-1.607061</td>\n",
              "      <td>-1.010006</td>\n",
              "      <td>-1.755328</td>\n",
              "      <td>0.892963</td>\n",
              "      <td>0.757113</td>\n",
              "      <td>0.198340</td>\n",
              "      <td>0.709246</td>\n",
              "      <td>0.035035</td>\n",
              "      <td>0</td>\n",
              "    </tr>\n",
              "    <tr>\n",
              "      <th>9345</th>\n",
              "      <td>5.046584</td>\n",
              "      <td>6.436010</td>\n",
              "      <td>5.027196</td>\n",
              "      <td>9.671768</td>\n",
              "      <td>5.177310</td>\n",
              "      <td>-1.909503</td>\n",
              "      <td>-1.359408</td>\n",
              "      <td>-1.908399</td>\n",
              "      <td>0.310602</td>\n",
              "      <td>0.306379</td>\n",
              "      <td>0.773164</td>\n",
              "      <td>0.227605</td>\n",
              "      <td>0.020240</td>\n",
              "      <td>0</td>\n",
              "    </tr>\n",
              "    <tr>\n",
              "      <th>27689</th>\n",
              "      <td>7.102181</td>\n",
              "      <td>4.445830</td>\n",
              "      <td>6.312775</td>\n",
              "      <td>9.225351</td>\n",
              "      <td>4.336864</td>\n",
              "      <td>-1.901617</td>\n",
              "      <td>-1.290038</td>\n",
              "      <td>-1.145209</td>\n",
              "      <td>0.419488</td>\n",
              "      <td>0.806710</td>\n",
              "      <td>0.253318</td>\n",
              "      <td>0.165019</td>\n",
              "      <td>0.021326</td>\n",
              "      <td>0</td>\n",
              "    </tr>\n",
              "    <tr>\n",
              "      <th>41504</th>\n",
              "      <td>9.498760</td>\n",
              "      <td>2.401916</td>\n",
              "      <td>9.250553</td>\n",
              "      <td>3.554704</td>\n",
              "      <td>3.894121</td>\n",
              "      <td>-0.877994</td>\n",
              "      <td>-1.863343</td>\n",
              "      <td>-1.152784</td>\n",
              "      <td>0.083158</td>\n",
              "      <td>0.543436</td>\n",
              "      <td>0.887797</td>\n",
              "      <td>0.486825</td>\n",
              "      <td>0.007529</td>\n",
              "      <td>0</td>\n",
              "    </tr>\n",
              "    <tr>\n",
              "      <th>25354</th>\n",
              "      <td>5.920046</td>\n",
              "      <td>5.255548</td>\n",
              "      <td>0.801548</td>\n",
              "      <td>0.839915</td>\n",
              "      <td>3.384093</td>\n",
              "      <td>-1.836258</td>\n",
              "      <td>-0.758147</td>\n",
              "      <td>-0.789688</td>\n",
              "      <td>0.389763</td>\n",
              "      <td>0.979835</td>\n",
              "      <td>0.371742</td>\n",
              "      <td>0.856951</td>\n",
              "      <td>-0.014716</td>\n",
              "      <td>1</td>\n",
              "    </tr>\n",
              "  </tbody>\n",
              "</table>\n",
              "</div>"
            ],
            "text/plain": [
              "           tau1      tau2      tau3  ...        g4      stab  stabf\n",
              "19125  2.446174  9.664811  7.758264  ...  0.709246  0.035035      0\n",
              "9345   5.046584  6.436010  5.027196  ...  0.227605  0.020240      0\n",
              "27689  7.102181  4.445830  6.312775  ...  0.165019  0.021326      0\n",
              "41504  9.498760  2.401916  9.250553  ...  0.486825  0.007529      0\n",
              "25354  5.920046  5.255548  0.801548  ...  0.856951 -0.014716      1\n",
              "\n",
              "[5 rows x 14 columns]"
            ]
          },
          "metadata": {},
          "execution_count": 7
        }
      ]
    },
    {
      "cell_type": "code",
      "metadata": {
        "colab": {
          "base_uri": "https://localhost:8080/"
        },
        "id": "F_w7xAlZjK69",
        "outputId": "11ad63f2-fc77-473e-8397-fc8fb77666d5"
      },
      "source": [
        "# To know the column entries of the dataset. \n",
        "#To ensure if there are any missing values and to know the datatype of the column attributes.\n",
        "df.info()"
      ],
      "execution_count": null,
      "outputs": [
        {
          "output_type": "stream",
          "name": "stdout",
          "text": [
            "<class 'pandas.core.frame.DataFrame'>\n",
            "Int64Index: 60000 entries, 19125 to 12082\n",
            "Data columns (total 14 columns):\n",
            " #   Column  Non-Null Count  Dtype  \n",
            "---  ------  --------------  -----  \n",
            " 0   tau1    60000 non-null  float64\n",
            " 1   tau2    60000 non-null  float64\n",
            " 2   tau3    60000 non-null  float64\n",
            " 3   tau4    60000 non-null  float64\n",
            " 4   p1      60000 non-null  float64\n",
            " 5   p2      60000 non-null  float64\n",
            " 6   p3      60000 non-null  float64\n",
            " 7   p4      60000 non-null  float64\n",
            " 8   g1      60000 non-null  float64\n",
            " 9   g2      60000 non-null  float64\n",
            " 10  g3      60000 non-null  float64\n",
            " 11  g4      60000 non-null  float64\n",
            " 12  stab    60000 non-null  float64\n",
            " 13  stabf   60000 non-null  int64  \n",
            "dtypes: float64(13), int64(1)\n",
            "memory usage: 6.9 MB\n"
          ]
        }
      ]
    },
    {
      "cell_type": "code",
      "metadata": {
        "colab": {
          "base_uri": "https://localhost:8080/",
          "height": 320
        },
        "id": "C6XZEYB3jNNN",
        "outputId": "978d0ed9-9b5e-4ab7-85be-85079a7b2e58"
      },
      "source": [
        "# Statistical description of the dataset.\n",
        "df.describe()"
      ],
      "execution_count": null,
      "outputs": [
        {
          "output_type": "execute_result",
          "data": {
            "text/html": [
              "<div>\n",
              "<style scoped>\n",
              "    .dataframe tbody tr th:only-of-type {\n",
              "        vertical-align: middle;\n",
              "    }\n",
              "\n",
              "    .dataframe tbody tr th {\n",
              "        vertical-align: top;\n",
              "    }\n",
              "\n",
              "    .dataframe thead th {\n",
              "        text-align: right;\n",
              "    }\n",
              "</style>\n",
              "<table border=\"1\" class=\"dataframe\">\n",
              "  <thead>\n",
              "    <tr style=\"text-align: right;\">\n",
              "      <th></th>\n",
              "      <th>tau1</th>\n",
              "      <th>tau2</th>\n",
              "      <th>tau3</th>\n",
              "      <th>tau4</th>\n",
              "      <th>p1</th>\n",
              "      <th>p2</th>\n",
              "      <th>p3</th>\n",
              "      <th>p4</th>\n",
              "      <th>g1</th>\n",
              "      <th>g2</th>\n",
              "      <th>g3</th>\n",
              "      <th>g4</th>\n",
              "      <th>stab</th>\n",
              "      <th>stabf</th>\n",
              "    </tr>\n",
              "  </thead>\n",
              "  <tbody>\n",
              "    <tr>\n",
              "      <th>count</th>\n",
              "      <td>60000.000000</td>\n",
              "      <td>60000.000000</td>\n",
              "      <td>60000.000000</td>\n",
              "      <td>60000.000000</td>\n",
              "      <td>60000.000000</td>\n",
              "      <td>60000.000000</td>\n",
              "      <td>60000.000000</td>\n",
              "      <td>60000.000000</td>\n",
              "      <td>60000.000000</td>\n",
              "      <td>60000.000000</td>\n",
              "      <td>60000.000000</td>\n",
              "      <td>60000.000000</td>\n",
              "      <td>60000.000000</td>\n",
              "      <td>60000.000000</td>\n",
              "    </tr>\n",
              "    <tr>\n",
              "      <th>mean</th>\n",
              "      <td>5.250000</td>\n",
              "      <td>5.250001</td>\n",
              "      <td>5.250001</td>\n",
              "      <td>5.250001</td>\n",
              "      <td>3.750000</td>\n",
              "      <td>-1.250000</td>\n",
              "      <td>-1.250000</td>\n",
              "      <td>-1.250000</td>\n",
              "      <td>0.525000</td>\n",
              "      <td>0.525000</td>\n",
              "      <td>0.525000</td>\n",
              "      <td>0.525000</td>\n",
              "      <td>0.015731</td>\n",
              "      <td>0.362000</td>\n",
              "    </tr>\n",
              "    <tr>\n",
              "      <th>std</th>\n",
              "      <td>2.742434</td>\n",
              "      <td>2.742437</td>\n",
              "      <td>2.742437</td>\n",
              "      <td>2.742437</td>\n",
              "      <td>0.752129</td>\n",
              "      <td>0.433017</td>\n",
              "      <td>0.433017</td>\n",
              "      <td>0.433017</td>\n",
              "      <td>0.274244</td>\n",
              "      <td>0.274243</td>\n",
              "      <td>0.274243</td>\n",
              "      <td>0.274243</td>\n",
              "      <td>0.036917</td>\n",
              "      <td>0.480583</td>\n",
              "    </tr>\n",
              "    <tr>\n",
              "      <th>min</th>\n",
              "      <td>0.500793</td>\n",
              "      <td>0.500141</td>\n",
              "      <td>0.500141</td>\n",
              "      <td>0.500141</td>\n",
              "      <td>1.582590</td>\n",
              "      <td>-1.999945</td>\n",
              "      <td>-1.999945</td>\n",
              "      <td>-1.999945</td>\n",
              "      <td>0.050009</td>\n",
              "      <td>0.050028</td>\n",
              "      <td>0.050028</td>\n",
              "      <td>0.050028</td>\n",
              "      <td>-0.080760</td>\n",
              "      <td>0.000000</td>\n",
              "    </tr>\n",
              "    <tr>\n",
              "      <th>25%</th>\n",
              "      <td>2.874892</td>\n",
              "      <td>2.875011</td>\n",
              "      <td>2.875011</td>\n",
              "      <td>2.875011</td>\n",
              "      <td>3.218300</td>\n",
              "      <td>-1.624997</td>\n",
              "      <td>-1.624997</td>\n",
              "      <td>-1.624997</td>\n",
              "      <td>0.287521</td>\n",
              "      <td>0.287497</td>\n",
              "      <td>0.287497</td>\n",
              "      <td>0.287497</td>\n",
              "      <td>-0.015557</td>\n",
              "      <td>0.000000</td>\n",
              "    </tr>\n",
              "    <tr>\n",
              "      <th>50%</th>\n",
              "      <td>5.250004</td>\n",
              "      <td>5.249981</td>\n",
              "      <td>5.249981</td>\n",
              "      <td>5.249981</td>\n",
              "      <td>3.751025</td>\n",
              "      <td>-1.249996</td>\n",
              "      <td>-1.249996</td>\n",
              "      <td>-1.249996</td>\n",
              "      <td>0.525009</td>\n",
              "      <td>0.525007</td>\n",
              "      <td>0.525007</td>\n",
              "      <td>0.525007</td>\n",
              "      <td>0.017142</td>\n",
              "      <td>0.000000</td>\n",
              "    </tr>\n",
              "    <tr>\n",
              "      <th>75%</th>\n",
              "      <td>7.624690</td>\n",
              "      <td>7.624896</td>\n",
              "      <td>7.624896</td>\n",
              "      <td>7.624896</td>\n",
              "      <td>4.282420</td>\n",
              "      <td>-0.874993</td>\n",
              "      <td>-0.874993</td>\n",
              "      <td>-0.874993</td>\n",
              "      <td>0.762435</td>\n",
              "      <td>0.762490</td>\n",
              "      <td>0.762490</td>\n",
              "      <td>0.762490</td>\n",
              "      <td>0.044878</td>\n",
              "      <td>1.000000</td>\n",
              "    </tr>\n",
              "    <tr>\n",
              "      <th>max</th>\n",
              "      <td>9.999469</td>\n",
              "      <td>9.999837</td>\n",
              "      <td>9.999837</td>\n",
              "      <td>9.999837</td>\n",
              "      <td>5.864418</td>\n",
              "      <td>-0.500025</td>\n",
              "      <td>-0.500025</td>\n",
              "      <td>-0.500025</td>\n",
              "      <td>0.999937</td>\n",
              "      <td>0.999982</td>\n",
              "      <td>0.999982</td>\n",
              "      <td>0.999982</td>\n",
              "      <td>0.109403</td>\n",
              "      <td>1.000000</td>\n",
              "    </tr>\n",
              "  </tbody>\n",
              "</table>\n",
              "</div>"
            ],
            "text/plain": [
              "               tau1          tau2  ...          stab         stabf\n",
              "count  60000.000000  60000.000000  ...  60000.000000  60000.000000\n",
              "mean       5.250000      5.250001  ...      0.015731      0.362000\n",
              "std        2.742434      2.742437  ...      0.036917      0.480583\n",
              "min        0.500793      0.500141  ...     -0.080760      0.000000\n",
              "25%        2.874892      2.875011  ...     -0.015557      0.000000\n",
              "50%        5.250004      5.249981  ...      0.017142      0.000000\n",
              "75%        7.624690      7.624896  ...      0.044878      1.000000\n",
              "max        9.999469      9.999837  ...      0.109403      1.000000\n",
              "\n",
              "[8 rows x 14 columns]"
            ]
          },
          "metadata": {},
          "execution_count": 9
        }
      ]
    },
    {
      "cell_type": "code",
      "metadata": {
        "colab": {
          "base_uri": "https://localhost:8080/",
          "height": 778
        },
        "id": "V-DvL6XxjRTb",
        "outputId": "e04f2ea1-dee4-4af3-cee3-8fb66797023c"
      },
      "source": [
        "# Visualization of the dataset.\n",
        "import matplotlib.pyplot as plt\n",
        "df.hist(bins=50, figsize=(20,15))\n",
        "plt.show()"
      ],
      "execution_count": null,
      "outputs": [
        {
          "output_type": "display_data",
          "data": {
            "image/png": "[encoded data removed]",
            "text/plain": [
              "<Figure size 1440x1080 with 16 Axes>"
            ]
          },
          "metadata": {
            "needs_background": "light"
          }
        }
      ]
    },
    {
      "cell_type": "code",
      "metadata": {
        "colab": {
          "base_uri": "https://localhost:8080/"
        },
        "id": "DEVOFamry4Ps",
        "outputId": "c7c27ca9-8d51-4097-b589-ac2a13a12534"
      },
      "source": [
        "# To understand the correlation between the attributes.\n",
        "corr_matrix = df.corr()\n",
        "corr_matrix[\"tau1\"].sort_values(ascending=False)"
      ],
      "execution_count": null,
      "outputs": [
        {
          "output_type": "execute_result",
          "data": {
            "text/plain": [
              "tau1     1.000000\n",
              "stab     0.275761\n",
              "p1       0.027183\n",
              "g1       0.010521\n",
              "g4       0.006522\n",
              "g2       0.006522\n",
              "g3       0.006522\n",
              "tau4    -0.002550\n",
              "tau2    -0.002550\n",
              "tau3    -0.002550\n",
              "p2      -0.015739\n",
              "p4      -0.015739\n",
              "p3      -0.015739\n",
              "stabf   -0.234898\n",
              "Name: tau1, dtype: float64"
            ]
          },
          "metadata": {},
          "execution_count": 11
        }
      ]
    },
    {
      "cell_type": "code",
      "metadata": {
        "colab": {
          "base_uri": "https://localhost:8080/",
          "height": 508
        },
        "id": "VbQkXlrFzgk8",
        "outputId": "0ea3eee3-6d21-4b51-ecf8-2866f3f189d5"
      },
      "source": [
        "corr_matrix"
      ],
      "execution_count": null,
      "outputs": [
        {
          "output_type": "execute_result",
          "data": {
            "text/html": [
              "<div>\n",
              "<style scoped>\n",
              "    .dataframe tbody tr th:only-of-type {\n",
              "        vertical-align: middle;\n",
              "    }\n",
              "\n",
              "    .dataframe tbody tr th {\n",
              "        vertical-align: top;\n",
              "    }\n",
              "\n",
              "    .dataframe thead th {\n",
              "        text-align: right;\n",
              "    }\n",
              "</style>\n",
              "<table border=\"1\" class=\"dataframe\">\n",
              "  <thead>\n",
              "    <tr style=\"text-align: right;\">\n",
              "      <th></th>\n",
              "      <th>tau1</th>\n",
              "      <th>tau2</th>\n",
              "      <th>tau3</th>\n",
              "      <th>tau4</th>\n",
              "      <th>p1</th>\n",
              "      <th>p2</th>\n",
              "      <th>p3</th>\n",
              "      <th>p4</th>\n",
              "      <th>g1</th>\n",
              "      <th>g2</th>\n",
              "      <th>g3</th>\n",
              "      <th>g4</th>\n",
              "      <th>stab</th>\n",
              "      <th>stabf</th>\n",
              "    </tr>\n",
              "  </thead>\n",
              "  <tbody>\n",
              "    <tr>\n",
              "      <th>tau1</th>\n",
              "      <td>1.000000</td>\n",
              "      <td>-0.002550</td>\n",
              "      <td>-0.002550</td>\n",
              "      <td>-0.002550</td>\n",
              "      <td>0.027183</td>\n",
              "      <td>-0.015739</td>\n",
              "      <td>-0.015739</td>\n",
              "      <td>-0.015739</td>\n",
              "      <td>0.010521</td>\n",
              "      <td>0.006522</td>\n",
              "      <td>0.006522</td>\n",
              "      <td>0.006522</td>\n",
              "      <td>0.275761</td>\n",
              "      <td>-0.234898</td>\n",
              "    </tr>\n",
              "    <tr>\n",
              "      <th>tau2</th>\n",
              "      <td>-0.002550</td>\n",
              "      <td>1.000000</td>\n",
              "      <td>0.005554</td>\n",
              "      <td>0.005554</td>\n",
              "      <td>0.003004</td>\n",
              "      <td>-0.004473</td>\n",
              "      <td>-0.000372</td>\n",
              "      <td>-0.000372</td>\n",
              "      <td>-0.005832</td>\n",
              "      <td>0.009865</td>\n",
              "      <td>0.002102</td>\n",
              "      <td>0.002102</td>\n",
              "      <td>0.283417</td>\n",
              "      <td>-0.241049</td>\n",
              "    </tr>\n",
              "    <tr>\n",
              "      <th>tau3</th>\n",
              "      <td>-0.002550</td>\n",
              "      <td>0.005554</td>\n",
              "      <td>1.000000</td>\n",
              "      <td>0.005554</td>\n",
              "      <td>0.003004</td>\n",
              "      <td>-0.000372</td>\n",
              "      <td>-0.004473</td>\n",
              "      <td>-0.000372</td>\n",
              "      <td>-0.005832</td>\n",
              "      <td>0.002102</td>\n",
              "      <td>0.009865</td>\n",
              "      <td>0.002102</td>\n",
              "      <td>0.283417</td>\n",
              "      <td>-0.241049</td>\n",
              "    </tr>\n",
              "    <tr>\n",
              "      <th>tau4</th>\n",
              "      <td>-0.002550</td>\n",
              "      <td>0.005554</td>\n",
              "      <td>0.005554</td>\n",
              "      <td>1.000000</td>\n",
              "      <td>0.003004</td>\n",
              "      <td>-0.000372</td>\n",
              "      <td>-0.000372</td>\n",
              "      <td>-0.004473</td>\n",
              "      <td>-0.005832</td>\n",
              "      <td>0.002102</td>\n",
              "      <td>0.002102</td>\n",
              "      <td>0.009865</td>\n",
              "      <td>0.283417</td>\n",
              "      <td>-0.241049</td>\n",
              "    </tr>\n",
              "    <tr>\n",
              "      <th>p1</th>\n",
              "      <td>0.027183</td>\n",
              "      <td>0.003004</td>\n",
              "      <td>0.003004</td>\n",
              "      <td>0.003004</td>\n",
              "      <td>1.000000</td>\n",
              "      <td>-0.578983</td>\n",
              "      <td>-0.578983</td>\n",
              "      <td>-0.578983</td>\n",
              "      <td>0.000721</td>\n",
              "      <td>0.000341</td>\n",
              "      <td>0.000341</td>\n",
              "      <td>0.000341</td>\n",
              "      <td>0.010278</td>\n",
              "      <td>-0.009938</td>\n",
              "    </tr>\n",
              "    <tr>\n",
              "      <th>p2</th>\n",
              "      <td>-0.015739</td>\n",
              "      <td>-0.004473</td>\n",
              "      <td>-0.000372</td>\n",
              "      <td>-0.000372</td>\n",
              "      <td>-0.578983</td>\n",
              "      <td>1.000000</td>\n",
              "      <td>0.002833</td>\n",
              "      <td>0.002833</td>\n",
              "      <td>-0.000417</td>\n",
              "      <td>-0.002141</td>\n",
              "      <td>0.000774</td>\n",
              "      <td>0.000774</td>\n",
              "      <td>-0.005951</td>\n",
              "      <td>0.005754</td>\n",
              "    </tr>\n",
              "    <tr>\n",
              "      <th>p3</th>\n",
              "      <td>-0.015739</td>\n",
              "      <td>-0.000372</td>\n",
              "      <td>-0.004473</td>\n",
              "      <td>-0.000372</td>\n",
              "      <td>-0.578983</td>\n",
              "      <td>0.002833</td>\n",
              "      <td>1.000000</td>\n",
              "      <td>0.002833</td>\n",
              "      <td>-0.000417</td>\n",
              "      <td>0.000774</td>\n",
              "      <td>-0.002141</td>\n",
              "      <td>0.000774</td>\n",
              "      <td>-0.005951</td>\n",
              "      <td>0.005754</td>\n",
              "    </tr>\n",
              "    <tr>\n",
              "      <th>p4</th>\n",
              "      <td>-0.015739</td>\n",
              "      <td>-0.000372</td>\n",
              "      <td>-0.000372</td>\n",
              "      <td>-0.004473</td>\n",
              "      <td>-0.578983</td>\n",
              "      <td>0.002833</td>\n",
              "      <td>0.002833</td>\n",
              "      <td>1.000000</td>\n",
              "      <td>-0.000417</td>\n",
              "      <td>0.000774</td>\n",
              "      <td>0.000774</td>\n",
              "      <td>-0.002141</td>\n",
              "      <td>-0.005951</td>\n",
              "      <td>0.005754</td>\n",
              "    </tr>\n",
              "    <tr>\n",
              "      <th>g1</th>\n",
              "      <td>0.010521</td>\n",
              "      <td>-0.005832</td>\n",
              "      <td>-0.005832</td>\n",
              "      <td>-0.005832</td>\n",
              "      <td>0.000721</td>\n",
              "      <td>-0.000417</td>\n",
              "      <td>-0.000417</td>\n",
              "      <td>-0.000417</td>\n",
              "      <td>1.000000</td>\n",
              "      <td>0.004718</td>\n",
              "      <td>0.004718</td>\n",
              "      <td>0.004718</td>\n",
              "      <td>0.282774</td>\n",
              "      <td>-0.197664</td>\n",
              "    </tr>\n",
              "    <tr>\n",
              "      <th>g2</th>\n",
              "      <td>0.006522</td>\n",
              "      <td>0.009865</td>\n",
              "      <td>0.002102</td>\n",
              "      <td>0.002102</td>\n",
              "      <td>0.000341</td>\n",
              "      <td>-0.002141</td>\n",
              "      <td>0.000774</td>\n",
              "      <td>0.000774</td>\n",
              "      <td>0.004718</td>\n",
              "      <td>1.000000</td>\n",
              "      <td>-0.006939</td>\n",
              "      <td>-0.006939</td>\n",
              "      <td>0.293684</td>\n",
              "      <td>-0.218015</td>\n",
              "    </tr>\n",
              "    <tr>\n",
              "      <th>g3</th>\n",
              "      <td>0.006522</td>\n",
              "      <td>0.002102</td>\n",
              "      <td>0.009865</td>\n",
              "      <td>0.002102</td>\n",
              "      <td>0.000341</td>\n",
              "      <td>0.000774</td>\n",
              "      <td>-0.002141</td>\n",
              "      <td>0.000774</td>\n",
              "      <td>0.004718</td>\n",
              "      <td>-0.006939</td>\n",
              "      <td>1.000000</td>\n",
              "      <td>-0.006939</td>\n",
              "      <td>0.293684</td>\n",
              "      <td>-0.218015</td>\n",
              "    </tr>\n",
              "    <tr>\n",
              "      <th>g4</th>\n",
              "      <td>0.006522</td>\n",
              "      <td>0.002102</td>\n",
              "      <td>0.002102</td>\n",
              "      <td>0.009865</td>\n",
              "      <td>0.000341</td>\n",
              "      <td>0.000774</td>\n",
              "      <td>0.000774</td>\n",
              "      <td>-0.002141</td>\n",
              "      <td>0.004718</td>\n",
              "      <td>-0.006939</td>\n",
              "      <td>-0.006939</td>\n",
              "      <td>1.000000</td>\n",
              "      <td>0.293684</td>\n",
              "      <td>-0.218015</td>\n",
              "    </tr>\n",
              "    <tr>\n",
              "      <th>stab</th>\n",
              "      <td>0.275761</td>\n",
              "      <td>0.283417</td>\n",
              "      <td>0.283417</td>\n",
              "      <td>0.283417</td>\n",
              "      <td>0.010278</td>\n",
              "      <td>-0.005951</td>\n",
              "      <td>-0.005951</td>\n",
              "      <td>-0.005951</td>\n",
              "      <td>0.282774</td>\n",
              "      <td>0.293684</td>\n",
              "      <td>0.293684</td>\n",
              "      <td>0.293684</td>\n",
              "      <td>1.000000</td>\n",
              "      <td>-0.826959</td>\n",
              "    </tr>\n",
              "    <tr>\n",
              "      <th>stabf</th>\n",
              "      <td>-0.234898</td>\n",
              "      <td>-0.241049</td>\n",
              "      <td>-0.241049</td>\n",
              "      <td>-0.241049</td>\n",
              "      <td>-0.009938</td>\n",
              "      <td>0.005754</td>\n",
              "      <td>0.005754</td>\n",
              "      <td>0.005754</td>\n",
              "      <td>-0.197664</td>\n",
              "      <td>-0.218015</td>\n",
              "      <td>-0.218015</td>\n",
              "      <td>-0.218015</td>\n",
              "      <td>-0.826959</td>\n",
              "      <td>1.000000</td>\n",
              "    </tr>\n",
              "  </tbody>\n",
              "</table>\n",
              "</div>"
            ],
            "text/plain": [
              "           tau1      tau2      tau3  ...        g4      stab     stabf\n",
              "tau1   1.000000 -0.002550 -0.002550  ...  0.006522  0.275761 -0.234898\n",
              "tau2  -0.002550  1.000000  0.005554  ...  0.002102  0.283417 -0.241049\n",
              "tau3  -0.002550  0.005554  1.000000  ...  0.002102  0.283417 -0.241049\n",
              "tau4  -0.002550  0.005554  0.005554  ...  0.009865  0.283417 -0.241049\n",
              "p1     0.027183  0.003004  0.003004  ...  0.000341  0.010278 -0.009938\n",
              "p2    -0.015739 -0.004473 -0.000372  ...  0.000774 -0.005951  0.005754\n",
              "p3    -0.015739 -0.000372 -0.004473  ...  0.000774 -0.005951  0.005754\n",
              "p4    -0.015739 -0.000372 -0.000372  ... -0.002141 -0.005951  0.005754\n",
              "g1     0.010521 -0.005832 -0.005832  ...  0.004718  0.282774 -0.197664\n",
              "g2     0.006522  0.009865  0.002102  ... -0.006939  0.293684 -0.218015\n",
              "g3     0.006522  0.002102  0.009865  ... -0.006939  0.293684 -0.218015\n",
              "g4     0.006522  0.002102  0.002102  ...  1.000000  0.293684 -0.218015\n",
              "stab   0.275761  0.283417  0.283417  ...  0.293684  1.000000 -0.826959\n",
              "stabf -0.234898 -0.241049 -0.241049  ... -0.218015 -0.826959  1.000000\n",
              "\n",
              "[14 rows x 14 columns]"
            ]
          },
          "metadata": {},
          "execution_count": 12
        }
      ]
    },
    {
      "cell_type": "code",
      "metadata": {
        "colab": {
          "base_uri": "https://localhost:8080/"
        },
        "id": "sBpg5rZo3DVy",
        "outputId": "fd66c153-5501-4fa9-85a1-2bc21b7e2bf0"
      },
      "source": [
        "# Split the dataset into X and Y attributes. \n",
        "#Those X and Y attributes has to be further split into training and testing data\n",
        "\n",
        "X = df.iloc[:, :12]\n",
        "y = df.iloc[:, 13]\n",
        "\n",
        "X_training = X.iloc[:54000, :]\n",
        "y_training = y.iloc[:54000]\n",
        "\n",
        "X_testing = X.iloc[54000:, :]\n",
        "y_testing = y.iloc[54000:]\n",
        "\n",
        "ratio_training = y_training.value_counts(normalize=True)\n",
        "ratio_testing = y_testing.value_counts(normalize=True)\n",
        "ratio_training, ratio_testing\n",
        "\n",
        "\n"
      ],
      "execution_count": null,
      "outputs": [
        {
          "output_type": "execute_result",
          "data": {
            "text/plain": [
              "(0    0.637407\n",
              " 1    0.362593\n",
              " Name: stabf, dtype: float64, 0    0.643333\n",
              " 1    0.356667\n",
              " Name: stabf, dtype: float64)"
            ]
          },
          "metadata": {},
          "execution_count": 13
        }
      ]
    },
    {
      "cell_type": "code",
      "metadata": {
        "id": "AXci-Tp63-bH"
      },
      "source": [
        "\n",
        "\n",
        "X_training = X_training.values\n",
        "y_training = y_training.values\n",
        "\n",
        "X_testing = X_testing.values\n",
        "y_testing = y_testing.values\n",
        "\n"
      ],
      "execution_count": null,
      "outputs": []
    },
    {
      "cell_type": "code",
      "metadata": {
        "id": "AsDSvRUb4TV0"
      },
      "source": [
        "# feature scaling of the values to make them fit into the model\n",
        "from sklearn.preprocessing import StandardScaler\n",
        "scaler = StandardScaler()\n",
        "X_training = scaler.fit_transform(X_training)\n",
        "X_testing = scaler.transform(X_testing)\n",
        "\n"
      ],
      "execution_count": null,
      "outputs": []
    },
    {
      "cell_type": "code",
      "metadata": {
        "colab": {
          "base_uri": "https://localhost:8080/"
        },
        "id": "C7KhAtTD4T6s",
        "outputId": "aca692ee-5695-4892-9160-f201df01ab2b"
      },
      "source": [
        "# Binary classification can be done using logistic Regression\n",
        "from sklearn.linear_model import LogisticRegression\n",
        "model=LogisticRegression()\n",
        "model.fit(X_training,y_training)"
      ],
      "execution_count": null,
      "outputs": [
        {
          "output_type": "execute_result",
          "data": {
            "text/plain": [
              "LogisticRegression()"
            ]
          },
          "metadata": {},
          "execution_count": 16
        }
      ]
    },
    {
      "cell_type": "code",
      "metadata": {
        "id": "YAhOkLNo5HM9"
      },
      "source": [
        "predictions=model.predict(X_testing)"
      ],
      "execution_count": null,
      "outputs": []
    },
    {
      "cell_type": "code",
      "metadata": {
        "colab": {
          "base_uri": "https://localhost:8080/"
        },
        "id": "178QVayj5vL8",
        "outputId": "f21d7ba8-e960-4815-b360-b693e4c800bb"
      },
      "source": [
        "from sklearn.metrics import confusion_matrix\n",
        "\n",
        "cm = confusion_matrix(y_testing, predictions)\n",
        "\n",
        "TN, FP, FN, TP = confusion_matrix(y_testing, predictions).ravel()\n",
        "\n",
        "print('True Positive(TP)  = ', TP)\n",
        "print('False Positive(FP) = ', FP)\n",
        "print('True Negative(TN)  = ', TN)\n",
        "print('False Negative(FN) = ', FN)\n",
        "\n",
        "accuracy =  (TP+TN) /(TP+FP+TN+FN)\n",
        "\n",
        "print('Accuracy of the binary classification = {:0.3f}'.format(accuracy))\n"
      ],
      "execution_count": null,
      "outputs": [
        {
          "output_type": "stream",
          "name": "stdout",
          "text": [
            "True Positive(TP)  =  1480\n",
            "False Positive(FP) =  471\n",
            "True Negative(TN)  =  3389\n",
            "False Negative(FN) =  660\n",
            "Accuracy of the binary classification = 0.811\n"
          ]
        }
      ]
    },
    {
      "cell_type": "code",
      "metadata": {
        "id": "V4Ggepmt529-"
      },
      "source": [
        "# Code to build the model\n",
        "import tensorflow as tf\n",
        "tf.random.set_seed(42)\n",
        "\n",
        "from tensorflow import keras\n",
        "from tensorflow.keras import layers\n",
        "from tensorflow.keras.optimizers import Adam"
      ],
      "execution_count": null,
      "outputs": []
    },
    {
      "cell_type": "code",
      "metadata": {
        "id": "fWC7o1KBAnmR"
      },
      "source": [
        "model=keras.Sequential()"
      ],
      "execution_count": null,
      "outputs": []
    },
    {
      "cell_type": "code",
      "metadata": {
        "id": "Pd3rtKnNAW3M"
      },
      "source": [
        "from keras.layers import Activation, Dense\n",
        "#Add the following layers to the model\n",
        "# First GRU layer\n",
        "model.add(Dense(units = 24, kernel_initializer = 'uniform', activation = 'relu', input_dim = 12))\n",
        "#model.add(layers.GRU(units=24, return_sequences=True, input_shape=(1,n_features), activation='tanh'))\n",
        "model.add(layers.Dropout(0.2))\n",
        "\n",
        "# Second GRU layer\n",
        "model.add(Dense(units = 24, kernel_initializer = 'uniform', activation = 'relu', input_dim = 12))\n",
        "#model.add(layers.GRU(units=150, return_sequences=True, input_shape=(1,n_features), activation='tanh'))\n",
        "model.add(layers.Dropout(0.2))\n",
        "\n",
        "# Third GRU layer\n",
        "model.add(Dense(units = 12, kernel_initializer = 'uniform', activation = 'relu', input_dim = 12))\n",
        "#model.add(layers.GRU(units=100, activation='tanh'))\n",
        "model.add(layers.Dropout(0.2))\n",
        "\n",
        "# Single-node output layer\n",
        "model.add(Dense(units = 1, kernel_initializer = 'uniform', activation = 'sigmoid'))\n",
        "\n",
        "# ANN compilation\n",
        "model.compile(optimizer = 'adam', loss = 'binary_crossentropy', metrics = ['accuracy'])\n",
        "# The output layer\n",
        "#model.add(layers.Dense(units=1, kernel_initializer='he_uniform', activation='linear'))"
      ],
      "execution_count": null,
      "outputs": []
    },
    {
      "cell_type": "code",
      "metadata": {
        "colab": {
          "base_uri": "https://localhost:8080/"
        },
        "id": "temrmfy-CGFz",
        "outputId": "7df58bff-eff0-4e06-80d4-57793853a013"
      },
      "source": [
        "# compile the model using learning rate\n",
        "model.compile(loss='mean_squared_error', optimizer=Adam(lr = 0.0005) , metrics = ['accuracy'])"
      ],
      "execution_count": null,
      "outputs": [
        {
          "output_type": "stream",
          "name": "stderr",
          "text": [
            "/usr/local/lib/python3.7/dist-packages/keras/optimizer_v2/adam.py:105: UserWarning: The `lr` argument is deprecated, use `learning_rate` instead.\n",
            "  super(Adam, self).__init__(name, **kwargs)\n"
          ]
        }
      ]
    },
    {
      "cell_type": "code",
      "metadata": {
        "colab": {
          "base_uri": "https://localhost:8080/"
        },
        "id": "m66ieXJCCJqm",
        "outputId": "710cf95a-8edf-467e-a4d3-e129fb179c30"
      },
      "source": [
        "print(model.summary())"
      ],
      "execution_count": null,
      "outputs": [
        {
          "output_type": "stream",
          "name": "stdout",
          "text": [
            "Model: \"sequential\"\n",
            "_________________________________________________________________\n",
            " Layer (type)                Output Shape              Param #   \n",
            "=================================================================\n",
            " dense (Dense)               (None, 24)                312       \n",
            "                                                                 \n",
            " dropout (Dropout)           (None, 24)                0         \n",
            "                                                                 \n",
            " dense_1 (Dense)             (None, 24)                600       \n",
            "                                                                 \n",
            " dropout_1 (Dropout)         (None, 24)                0         \n",
            "                                                                 \n",
            " dense_2 (Dense)             (None, 12)                300       \n",
            "                                                                 \n",
            " dropout_2 (Dropout)         (None, 12)                0         \n",
            "                                                                 \n",
            " dense_3 (Dense)             (None, 1)                 13        \n",
            "                                                                 \n",
            "=================================================================\n",
            "Total params: 1,225\n",
            "Trainable params: 1,225\n",
            "Non-trainable params: 0\n",
            "_________________________________________________________________\n",
            "None\n"
          ]
        }
      ]
    },
    {
      "cell_type": "code",
      "metadata": {
        "colab": {
          "base_uri": "https://localhost:8080/"
        },
        "id": "Fx79rGoNdCEK",
        "outputId": "b0676f13-55bd-41b3-e0c9-7040766af735"
      },
      "source": [
        "from sklearn.model_selection import KFold\n",
        "cross_val_round = 1\n",
        "print(f'Model evaluation\\n')\n",
        "\n",
        "for train_index, val_index in KFold(10, shuffle=True, random_state=10).split(X_training):\n",
        "    x_train, x_val = X_training[train_index], X_training[val_index]\n",
        "    y_train ,y_val = y_training[train_index], y_training[val_index]\n",
        "    model.fit(x_train, y_train, epochs=50, verbose=0)\n",
        "    classifier_loss, classifier_accuracy = model.evaluate(x_val, y_val)\n",
        "    print(f'Round {cross_val_round} - Loss: {classifier_loss:.4f} | Accuracy: {classifier_accuracy * 100:.2f} %')\n",
        "    cross_val_round += 1"
      ],
      "execution_count": null,
      "outputs": [
        {
          "output_type": "stream",
          "name": "stdout",
          "text": [
            "Model evaluation\n",
            "\n",
            "169/169 [==============================] - 0s 1ms/step - loss: 0.0579 - accuracy: 0.9233\n",
            "Round 1 - Loss: 0.0579 | Accuracy: 92.33 %\n",
            "169/169 [==============================] - 0s 1ms/step - loss: 0.0571 - accuracy: 0.9276\n",
            "Round 2 - Loss: 0.0571 | Accuracy: 92.76 %\n",
            "169/169 [==============================] - 0s 1ms/step - loss: 0.0499 - accuracy: 0.9346\n",
            "Round 3 - Loss: 0.0499 | Accuracy: 93.46 %\n",
            "169/169 [==============================] - 0s 1ms/step - loss: 0.0528 - accuracy: 0.9322\n",
            "Round 4 - Loss: 0.0528 | Accuracy: 93.22 %\n",
            "169/169 [==============================] - 0s 1ms/step - loss: 0.0451 - accuracy: 0.9385\n",
            "Round 5 - Loss: 0.0451 | Accuracy: 93.85 %\n"
          ]
        }
      ]
    },
    {
      "cell_type": "code",
      "metadata": {
        "id": "lkZjghzNofjo"
      },
      "source": [
        "results=model.evaluate(X_testing,y_testing)"
      ],
      "execution_count": null,
      "outputs": []
    },
    {
      "cell_type": "code",
      "metadata": {
        "id": "-ah9mKyNolyT",
        "colab": {
          "base_uri": "https://localhost:8080/"
        },
        "outputId": "e5a09c22-29c8-425c-cdee-4db0cf6b7b06"
      },
      "source": [
        "#Evaluation of model\n",
        "print('Final test set loss: {:4f}'.format(results[0]))\n",
        "print('Final test set accuracy: {:4f}'.format(results[1]))"
      ],
      "execution_count": null,
      "outputs": [
        {
          "output_type": "stream",
          "name": "stdout",
          "text": [
            "Final test set loss: 0.047009\n",
            "Final test set accuracy: 0.938333\n"
          ]
        }
      ]
    },
    {
      "cell_type": "code",
      "metadata": {
        "colab": {
          "base_uri": "https://localhost:8080/"
        },
        "id": "49rZCcmFo9Lx",
        "outputId": "bbf85aa9-9e1d-4263-947e-255ccad20b13"
      },
      "source": [
        "history=model.fit(X_training,y_training,batch_size=5,epochs=100)"
      ],
      "execution_count": null,
      "outputs": [
        {
          "output_type": "stream",
          "name": "stdout",
          "text": [
            "Epoch 1/100\n",
            "10800/10800 [==============================] - 29s 3ms/step - loss: 0.0681 - accuracy: 0.9091\n",
            "Epoch 2/100\n",
            "10800/10800 [==============================] - 28s 3ms/step - loss: 0.0682 - accuracy: 0.9086\n",
            "Epoch 3/100\n",
            "10800/10800 [==============================] - 26s 2ms/step - loss: 0.0678 - accuracy: 0.9102\n",
            "Epoch 4/100\n",
            "10800/10800 [==============================] - 27s 2ms/step - loss: 0.0676 - accuracy: 0.9090\n",
            "Epoch 5/100\n",
            "10800/10800 [==============================] - 26s 2ms/step - loss: 0.0680 - accuracy: 0.9090\n",
            "Epoch 6/100\n",
            "10800/10800 [==============================] - 26s 2ms/step - loss: 0.0680 - accuracy: 0.9093\n",
            "Epoch 7/100\n",
            "10800/10800 [==============================] - 26s 2ms/step - loss: 0.0685 - accuracy: 0.9082\n",
            "Epoch 8/100\n",
            "10800/10800 [==============================] - 26s 2ms/step - loss: 0.0684 - accuracy: 0.9089\n",
            "Epoch 9/100\n",
            "10800/10800 [==============================] - 27s 3ms/step - loss: 0.0671 - accuracy: 0.9104\n",
            "Epoch 10/100\n",
            "10800/10800 [==============================] - 27s 2ms/step - loss: 0.0680 - accuracy: 0.9094\n",
            "Epoch 11/100\n",
            "10800/10800 [==============================] - 26s 2ms/step - loss: 0.0666 - accuracy: 0.9112\n",
            "Epoch 12/100\n",
            "10800/10800 [==============================] - 27s 2ms/step - loss: 0.0678 - accuracy: 0.9099\n",
            "Epoch 13/100\n",
            "10800/10800 [==============================] - 26s 2ms/step - loss: 0.0674 - accuracy: 0.9098\n",
            "Epoch 14/100\n",
            "10800/10800 [==============================] - 26s 2ms/step - loss: 0.0672 - accuracy: 0.9104\n",
            "Epoch 15/100\n",
            "10800/10800 [==============================] - 25s 2ms/step - loss: 0.0675 - accuracy: 0.9101\n",
            "Epoch 16/100\n",
            "10800/10800 [==============================] - 26s 2ms/step - loss: 0.0678 - accuracy: 0.9088\n",
            "Epoch 17/100\n",
            "10800/10800 [==============================] - 25s 2ms/step - loss: 0.0681 - accuracy: 0.9089\n",
            "Epoch 18/100\n",
            "10800/10800 [==============================] - 25s 2ms/step - loss: 0.0670 - accuracy: 0.9103\n",
            "Epoch 19/100\n",
            "10800/10800 [==============================] - 26s 2ms/step - loss: 0.0675 - accuracy: 0.9097\n",
            "Epoch 20/100\n",
            "10800/10800 [==============================] - 26s 2ms/step - loss: 0.0669 - accuracy: 0.9106\n",
            "Epoch 21/100\n",
            "10800/10800 [==============================] - 26s 2ms/step - loss: 0.0666 - accuracy: 0.9108\n",
            "Epoch 22/100\n",
            "10800/10800 [==============================] - 26s 2ms/step - loss: 0.0672 - accuracy: 0.9111\n",
            "Epoch 23/100\n",
            "10800/10800 [==============================] - 27s 2ms/step - loss: 0.0664 - accuracy: 0.9123\n",
            "Epoch 24/100\n",
            "10800/10800 [==============================] - 26s 2ms/step - loss: 0.0669 - accuracy: 0.9101\n",
            "Epoch 25/100\n",
            "10800/10800 [==============================] - 25s 2ms/step - loss: 0.0664 - accuracy: 0.9109\n",
            "Epoch 26/100\n",
            "10800/10800 [==============================] - 26s 2ms/step - loss: 0.0665 - accuracy: 0.9105\n",
            "Epoch 27/100\n",
            "10800/10800 [==============================] - 27s 3ms/step - loss: 0.0685 - accuracy: 0.9085\n",
            "Epoch 28/100\n",
            "10800/10800 [==============================] - 26s 2ms/step - loss: 0.0685 - accuracy: 0.9087\n",
            "Epoch 29/100\n",
            "10800/10800 [==============================] - 27s 2ms/step - loss: 0.0679 - accuracy: 0.9097\n",
            "Epoch 30/100\n",
            "10800/10800 [==============================] - 26s 2ms/step - loss: 0.0669 - accuracy: 0.9102\n",
            "Epoch 31/100\n",
            "10800/10800 [==============================] - 28s 3ms/step - loss: 0.0673 - accuracy: 0.9101\n",
            "Epoch 32/100\n",
            "10800/10800 [==============================] - 26s 2ms/step - loss: 0.0669 - accuracy: 0.9105\n",
            "Epoch 33/100\n",
            "10800/10800 [==============================] - 28s 3ms/step - loss: 0.0680 - accuracy: 0.9098\n",
            "Epoch 34/100\n",
            "10800/10800 [==============================] - 28s 3ms/step - loss: 0.0667 - accuracy: 0.9109\n",
            "Epoch 35/100\n",
            "10800/10800 [==============================] - 28s 3ms/step - loss: 0.0678 - accuracy: 0.9090\n",
            "Epoch 36/100\n",
            "10800/10800 [==============================] - 24s 2ms/step - loss: 0.0671 - accuracy: 0.9108\n",
            "Epoch 37/100\n",
            "10800/10800 [==============================] - 24s 2ms/step - loss: 0.0673 - accuracy: 0.9101\n",
            "Epoch 38/100\n",
            "10800/10800 [==============================] - 24s 2ms/step - loss: 0.0681 - accuracy: 0.9094\n",
            "Epoch 39/100\n",
            "10800/10800 [==============================] - 24s 2ms/step - loss: 0.0668 - accuracy: 0.9115\n",
            "Epoch 40/100\n",
            "10800/10800 [==============================] - 24s 2ms/step - loss: 0.0672 - accuracy: 0.9096\n",
            "Epoch 41/100\n",
            "10800/10800 [==============================] - 25s 2ms/step - loss: 0.0676 - accuracy: 0.9089\n",
            "Epoch 42/100\n",
            "10800/10800 [==============================] - 26s 2ms/step - loss: 0.0671 - accuracy: 0.9098\n",
            "Epoch 43/100\n",
            "10800/10800 [==============================] - 24s 2ms/step - loss: 0.0680 - accuracy: 0.9088\n",
            "Epoch 44/100\n",
            "10800/10800 [==============================] - 24s 2ms/step - loss: 0.0671 - accuracy: 0.9103\n",
            "Epoch 45/100\n",
            "10800/10800 [==============================] - 24s 2ms/step - loss: 0.0677 - accuracy: 0.9103\n",
            "Epoch 46/100\n",
            "10800/10800 [==============================] - 25s 2ms/step - loss: 0.0668 - accuracy: 0.9108\n",
            "Epoch 47/100\n",
            "10800/10800 [==============================] - 26s 2ms/step - loss: 0.0673 - accuracy: 0.9094\n",
            "Epoch 48/100\n",
            "10800/10800 [==============================] - 24s 2ms/step - loss: 0.0667 - accuracy: 0.9104\n",
            "Epoch 49/100\n",
            "10800/10800 [==============================] - 24s 2ms/step - loss: 0.0672 - accuracy: 0.9083\n",
            "Epoch 50/100\n",
            "10800/10800 [==============================] - 24s 2ms/step - loss: 0.0658 - accuracy: 0.9116\n",
            "Epoch 51/100\n",
            "10800/10800 [==============================] - 27s 2ms/step - loss: 0.0662 - accuracy: 0.9104\n",
            "Epoch 52/100\n",
            "10800/10800 [==============================] - 24s 2ms/step - loss: 0.0660 - accuracy: 0.9118\n",
            "Epoch 53/100\n",
            "10800/10800 [==============================] - 26s 2ms/step - loss: 0.0652 - accuracy: 0.9129\n",
            "Epoch 54/100\n",
            "10800/10800 [==============================] - 26s 2ms/step - loss: 0.0653 - accuracy: 0.9122\n",
            "Epoch 55/100\n",
            "10800/10800 [==============================] - 25s 2ms/step - loss: 0.0652 - accuracy: 0.9124\n",
            "Epoch 56/100\n",
            "10800/10800 [==============================] - 24s 2ms/step - loss: 0.0643 - accuracy: 0.9144\n",
            "Epoch 57/100\n",
            "10800/10800 [==============================] - 26s 2ms/step - loss: 0.0646 - accuracy: 0.9127\n",
            "Epoch 58/100\n",
            "10800/10800 [==============================] - 27s 3ms/step - loss: 0.0647 - accuracy: 0.9129\n",
            "Epoch 59/100\n",
            "10800/10800 [==============================] - 27s 3ms/step - loss: 0.0647 - accuracy: 0.9139\n",
            "Epoch 60/100\n",
            "10800/10800 [==============================] - 28s 3ms/step - loss: 0.0647 - accuracy: 0.9145\n",
            "Epoch 61/100\n",
            "10800/10800 [==============================] - 27s 3ms/step - loss: 0.0636 - accuracy: 0.9159\n",
            "Epoch 62/100\n",
            "10800/10800 [==============================] - 28s 3ms/step - loss: 0.0631 - accuracy: 0.9156\n",
            "Epoch 63/100\n",
            "10800/10800 [==============================] - 26s 2ms/step - loss: 0.0640 - accuracy: 0.9148\n",
            "Epoch 64/100\n",
            "10800/10800 [==============================] - 26s 2ms/step - loss: 0.0638 - accuracy: 0.9158\n",
            "Epoch 65/100\n",
            "10800/10800 [==============================] - 25s 2ms/step - loss: 0.0638 - accuracy: 0.9160\n",
            "Epoch 66/100\n",
            "10800/10800 [==============================] - 27s 2ms/step - loss: 0.0641 - accuracy: 0.9149\n",
            "Epoch 67/100\n",
            "10800/10800 [==============================] - 27s 2ms/step - loss: 0.0635 - accuracy: 0.9163\n",
            "Epoch 68/100\n",
            "10800/10800 [==============================] - 26s 2ms/step - loss: 0.0631 - accuracy: 0.9162\n",
            "Epoch 69/100\n",
            "10800/10800 [==============================] - 27s 3ms/step - loss: 0.0636 - accuracy: 0.9150\n",
            "Epoch 70/100\n",
            "10800/10800 [==============================] - 28s 3ms/step - loss: 0.0632 - accuracy: 0.9159\n",
            "Epoch 71/100\n",
            "10800/10800 [==============================] - 28s 3ms/step - loss: 0.0635 - accuracy: 0.9160\n",
            "Epoch 72/100\n",
            "10800/10800 [==============================] - 28s 3ms/step - loss: 0.0635 - accuracy: 0.9160\n",
            "Epoch 73/100\n",
            "10800/10800 [==============================] - 29s 3ms/step - loss: 0.0627 - accuracy: 0.9169\n",
            "Epoch 74/100\n",
            "10800/10800 [==============================] - 29s 3ms/step - loss: 0.0628 - accuracy: 0.9178\n",
            "Epoch 75/100\n",
            "10800/10800 [==============================] - 27s 2ms/step - loss: 0.0643 - accuracy: 0.9146\n",
            "Epoch 76/100\n",
            "10800/10800 [==============================] - 26s 2ms/step - loss: 0.0633 - accuracy: 0.9151\n",
            "Epoch 77/100\n",
            "10800/10800 [==============================] - 26s 2ms/step - loss: 0.0621 - accuracy: 0.9186\n",
            "Epoch 78/100\n",
            "10800/10800 [==============================] - 26s 2ms/step - loss: 0.0633 - accuracy: 0.9160\n",
            "Epoch 79/100\n",
            "10800/10800 [==============================] - 26s 2ms/step - loss: 0.0622 - accuracy: 0.9174\n",
            "Epoch 80/100\n",
            "10800/10800 [==============================] - 27s 3ms/step - loss: 0.0638 - accuracy: 0.9151\n",
            "Epoch 81/100\n",
            "10800/10800 [==============================] - 27s 2ms/step - loss: 0.0642 - accuracy: 0.9144\n",
            "Epoch 82/100\n",
            "10800/10800 [==============================] - 28s 3ms/step - loss: 0.0635 - accuracy: 0.9162\n",
            "Epoch 83/100\n",
            "10800/10800 [==============================] - 26s 2ms/step - loss: 0.0628 - accuracy: 0.9174\n",
            "Epoch 84/100\n",
            "10800/10800 [==============================] - 26s 2ms/step - loss: 0.0633 - accuracy: 0.9161\n",
            "Epoch 85/100\n",
            "10800/10800 [==============================] - 27s 3ms/step - loss: 0.0627 - accuracy: 0.9168\n",
            "Epoch 86/100\n",
            "10800/10800 [==============================] - 26s 2ms/step - loss: 0.0625 - accuracy: 0.9169\n",
            "Epoch 87/100\n",
            "10800/10800 [==============================] - 28s 3ms/step - loss: 0.0629 - accuracy: 0.9165\n",
            "Epoch 88/100\n",
            "10800/10800 [==============================] - 26s 2ms/step - loss: 0.0611 - accuracy: 0.9186\n",
            "Epoch 89/100\n",
            "10800/10800 [==============================] - 27s 3ms/step - loss: 0.0633 - accuracy: 0.9158\n",
            "Epoch 90/100\n",
            "10800/10800 [==============================] - 28s 3ms/step - loss: 0.0622 - accuracy: 0.9183\n",
            "Epoch 91/100\n",
            "10800/10800 [==============================] - 26s 2ms/step - loss: 0.0628 - accuracy: 0.9164\n",
            "Epoch 92/100\n",
            "10800/10800 [==============================] - 26s 2ms/step - loss: 0.0628 - accuracy: 0.9176\n",
            "Epoch 93/100\n",
            "10800/10800 [==============================] - 25s 2ms/step - loss: 0.0623 - accuracy: 0.9178\n",
            "Epoch 94/100\n",
            "10800/10800 [==============================] - 26s 2ms/step - loss: 0.0628 - accuracy: 0.9173\n",
            "Epoch 95/100\n",
            "10800/10800 [==============================] - 26s 2ms/step - loss: 0.0628 - accuracy: 0.9168\n",
            "Epoch 96/100\n",
            "10800/10800 [==============================] - 26s 2ms/step - loss: 0.0633 - accuracy: 0.9146\n",
            "Epoch 97/100\n",
            "10800/10800 [==============================] - 26s 2ms/step - loss: 0.0616 - accuracy: 0.9178\n",
            "Epoch 98/100\n",
            "10800/10800 [==============================] - 25s 2ms/step - loss: 0.0613 - accuracy: 0.9186\n",
            "Epoch 99/100\n",
            "10800/10800 [==============================] - 25s 2ms/step - loss: 0.0622 - accuracy: 0.9177\n",
            "Epoch 100/100\n",
            "10800/10800 [==============================] - 26s 2ms/step - loss: 0.0628 - accuracy: 0.9167\n"
          ]
        }
      ]
    },
    {
      "cell_type": "code",
      "metadata": {
        "id": "erAuNmYTo1vN",
        "colab": {
          "base_uri": "https://localhost:8080/"
        },
        "outputId": "e888005e-81cc-4820-9bfe-eff32294a444"
      },
      "source": [
        "results=model.evaluate(X_training,y_training)"
      ],
      "execution_count": null,
      "outputs": [
        {
          "output_type": "stream",
          "name": "stdout",
          "text": [
            "1688/1688 [==============================] - 2s 1ms/step - loss: 0.0431 - accuracy: 0.9431\n"
          ]
        }
      ]
    },
    {
      "cell_type": "code",
      "source": [
        ""
      ],
      "metadata": {
        "id": "bwU6Xjc2dq1A"
      },
      "execution_count": null,
      "outputs": []
    }
  ]
}