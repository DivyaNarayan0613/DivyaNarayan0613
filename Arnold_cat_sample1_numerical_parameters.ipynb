{
  "cells": [
    {
      "cell_type": "markdown",
      "metadata": {
        "id": "view-in-github",
        "colab_type": "text"
      },
      "source": [
        "<a href=\"https://colab.research.google.com/github/DivyaNarayan0613/DivyaNarayan0613/blob/main/Arnold_cat_sample1_numerical_parameters.ipynb\" target=\"_parent\"><img src=\"https://colab.research.google.com/assets/colab-badge.svg\" alt=\"Open In Colab\"/></a>"
      ]
    },
    {
      "cell_type": "code",
      "execution_count": null,
      "metadata": {
        "id": "b_-lo5FuyGEP"
      },
      "outputs": [],
      "source": [
        "from PIL import Image\n",
        "import numpy as np\n",
        "import os\n",
        "from matplotlib.pyplot import imshow\n",
        "import matplotlib.pyplot as plt\n",
        "import cv2\n",
        "import random\n",
        "from math import log\n",
        "from google.colab.patches import cv2_imshow\n",
        "from tqdm import tqdm"
      ]
    },
    {
      "cell_type": "code",
      "execution_count": null,
      "metadata": {
        "colab": {
          "background_save": true,
          "base_uri": "https://localhost:8080/"
        },
        "id": "Oxf5gY6zlqzI",
        "outputId": "53b95fbe-3a39-4523-a1a2-4e6e191ec854"
      },
      "outputs": [
        {
          "data": {
            "text/html": [
              "\n",
              "     <input type=\"file\" id=\"files-a2ca3420-fbfb-49b9-b18f-b8be6d8d18a7\" name=\"files[]\" multiple disabled\n",
              "        style=\"border:none\" />\n",
              "     <output id=\"result-a2ca3420-fbfb-49b9-b18f-b8be6d8d18a7\">\n",
              "      Upload widget is only available when the cell has been executed in the\n",
              "      current browser session. Please rerun this cell to enable.\n",
              "      </output>\n",
              "      <script>// Copyright 2017 Google LLC\n",
              "//\n",
              "// Licensed under the Apache License, Version 2.0 (the \"License\");\n",
              "// you may not use this file except in compliance with the License.\n",
              "// You may obtain a copy of the License at\n",
              "//\n",
              "//      http://www.apache.org/licenses/LICENSE-2.0\n",
              "//\n",
              "// Unless required by applicable law or agreed to in writing, software\n",
              "// distributed under the License is distributed on an \"AS IS\" BASIS,\n",
              "// WITHOUT WARRANTIES OR CONDITIONS OF ANY KIND, either express or implied.\n",
              "// See the License for the specific language governing permissions and\n",
              "// limitations under the License.\n",
              "\n",
              "/**\n",
              " * @fileoverview Helpers for google.colab Python module.\n",
              " */\n",
              "(function(scope) {\n",
              "function span(text, styleAttributes = {}) {\n",
              "  const element = document.createElement('span');\n",
              "  element.textContent = text;\n",
              "  for (const key of Object.keys(styleAttributes)) {\n",
              "    element.style[key] = styleAttributes[key];\n",
              "  }\n",
              "  return element;\n",
              "}\n",
              "\n",
              "// Max number of bytes which will be uploaded at a time.\n",
              "const MAX_PAYLOAD_SIZE = 100 * 1024;\n",
              "\n",
              "function _uploadFiles(inputId, outputId) {\n",
              "  const steps = uploadFilesStep(inputId, outputId);\n",
              "  const outputElement = document.getElementById(outputId);\n",
              "  // Cache steps on the outputElement to make it available for the next call\n",
              "  // to uploadFilesContinue from Python.\n",
              "  outputElement.steps = steps;\n",
              "\n",
              "  return _uploadFilesContinue(outputId);\n",
              "}\n",
              "\n",
              "// This is roughly an async generator (not supported in the browser yet),\n",
              "// where there are multiple asynchronous steps and the Python side is going\n",
              "// to poll for completion of each step.\n",
              "// This uses a Promise to block the python side on completion of each step,\n",
              "// then passes the result of the previous step as the input to the next step.\n",
              "function _uploadFilesContinue(outputId) {\n",
              "  const outputElement = document.getElementById(outputId);\n",
              "  const steps = outputElement.steps;\n",
              "\n",
              "  const next = steps.next(outputElement.lastPromiseValue);\n",
              "  return Promise.resolve(next.value.promise).then((value) => {\n",
              "    // Cache the last promise value to make it available to the next\n",
              "    // step of the generator.\n",
              "    outputElement.lastPromiseValue = value;\n",
              "    return next.value.response;\n",
              "  });\n",
              "}\n",
              "\n",
              "/**\n",
              " * Generator function which is called between each async step of the upload\n",
              " * process.\n",
              " * @param {string} inputId Element ID of the input file picker element.\n",
              " * @param {string} outputId Element ID of the output display.\n",
              " * @return {!Iterable<!Object>} Iterable of next steps.\n",
              " */\n",
              "function* uploadFilesStep(inputId, outputId) {\n",
              "  const inputElement = document.getElementById(inputId);\n",
              "  inputElement.disabled = false;\n",
              "\n",
              "  const outputElement = document.getElementById(outputId);\n",
              "  outputElement.innerHTML = '';\n",
              "\n",
              "  const pickedPromise = new Promise((resolve) => {\n",
              "    inputElement.addEventListener('change', (e) => {\n",
              "      resolve(e.target.files);\n",
              "    });\n",
              "  });\n",
              "\n",
              "  const cancel = document.createElement('button');\n",
              "  inputElement.parentElement.appendChild(cancel);\n",
              "  cancel.textContent = 'Cancel upload';\n",
              "  const cancelPromise = new Promise((resolve) => {\n",
              "    cancel.onclick = () => {\n",
              "      resolve(null);\n",
              "    };\n",
              "  });\n",
              "\n",
              "  // Wait for the user to pick the files.\n",
              "  const files = yield {\n",
              "    promise: Promise.race([pickedPromise, cancelPromise]),\n",
              "    response: {\n",
              "      action: 'starting',\n",
              "    }\n",
              "  };\n",
              "\n",
              "  cancel.remove();\n",
              "\n",
              "  // Disable the input element since further picks are not allowed.\n",
              "  inputElement.disabled = true;\n",
              "\n",
              "  if (!files) {\n",
              "    return {\n",
              "      response: {\n",
              "        action: 'complete',\n",
              "      }\n",
              "    };\n",
              "  }\n",
              "\n",
              "  for (const file of files) {\n",
              "    const li = document.createElement('li');\n",
              "    li.append(span(file.name, {fontWeight: 'bold'}));\n",
              "    li.append(span(\n",
              "        `(${file.type || 'n/a'}) - ${file.size} bytes, ` +\n",
              "        `last modified: ${\n",
              "            file.lastModifiedDate ? file.lastModifiedDate.toLocaleDateString() :\n",
              "                                    'n/a'} - `));\n",
              "    const percent = span('0% done');\n",
              "    li.appendChild(percent);\n",
              "\n",
              "    outputElement.appendChild(li);\n",
              "\n",
              "    const fileDataPromise = new Promise((resolve) => {\n",
              "      const reader = new FileReader();\n",
              "      reader.onload = (e) => {\n",
              "        resolve(e.target.result);\n",
              "      };\n",
              "      reader.readAsArrayBuffer(file);\n",
              "    });\n",
              "    // Wait for the data to be ready.\n",
              "    let fileData = yield {\n",
              "      promise: fileDataPromise,\n",
              "      response: {\n",
              "        action: 'continue',\n",
              "      }\n",
              "    };\n",
              "\n",
              "    // Use a chunked sending to avoid message size limits. See b/62115660.\n",
              "    let position = 0;\n",
              "    do {\n",
              "      const length = Math.min(fileData.byteLength - position, MAX_PAYLOAD_SIZE);\n",
              "      const chunk = new Uint8Array(fileData, position, length);\n",
              "      position += length;\n",
              "\n",
              "      const base64 = btoa(String.fromCharCode.apply(null, chunk));\n",
              "      yield {\n",
              "        response: {\n",
              "          action: 'append',\n",
              "          file: file.name,\n",
              "          data: base64,\n",
              "        },\n",
              "      };\n",
              "\n",
              "      let percentDone = fileData.byteLength === 0 ?\n",
              "          100 :\n",
              "          Math.round((position / fileData.byteLength) * 100);\n",
              "      percent.textContent = `${percentDone}% done`;\n",
              "\n",
              "    } while (position < fileData.byteLength);\n",
              "  }\n",
              "\n",
              "  // All done.\n",
              "  yield {\n",
              "    response: {\n",
              "      action: 'complete',\n",
              "    }\n",
              "  };\n",
              "}\n",
              "\n",
              "scope.google = scope.google || {};\n",
              "scope.google.colab = scope.google.colab || {};\n",
              "scope.google.colab._files = {\n",
              "  _uploadFiles,\n",
              "  _uploadFilesContinue,\n",
              "};\n",
              "})(self);\n",
              "</script> "
            ],
            "text/plain": [
              "<IPython.core.display.HTML object>"
            ]
          },
          "metadata": {},
          "output_type": "display_data"
        }
      ],
      "source": [
        "from google.colab import files\n",
        "from io import BytesIO\n",
        "from PIL import Image\n",
        "\n",
        "uploaded = files.upload()\n",
        "im = Image.open(BytesIO(uploaded['sample1.png']))"
      ]
    },
    {
      "cell_type": "code",
      "execution_count": null,
      "metadata": {
        "id": "biuIJYJhvNuG"
      },
      "outputs": [],
      "source": [
        "import matplotlib.pyplot as plt\n",
        "\n",
        "plt.imshow(im)\n",
        "plt.show()"
      ]
    },
    {
      "cell_type": "code",
      "execution_count": null,
      "metadata": {
        "id": "mqZkVOoKvR6-"
      },
      "outputs": [],
      "source": [
        "im.size"
      ]
    },
    {
      "cell_type": "code",
      "execution_count": null,
      "metadata": {
        "id": "cm1NV0bLy-Hs"
      },
      "outputs": [],
      "source": [
        "def getImageMatrix(imageName):\n",
        "    im = Image.open(imageName)\n",
        "    pix = im.load()\n",
        "    color = 1\n",
        "    if type(pix[0,0]) == int:\n",
        "      color = 0\n",
        "    image_size = im.size\n",
        "    image_matrix = []\n",
        "    for width in range(int(image_size[0])):\n",
        "        row = []\n",
        "        for height in range(int(image_size[1])):\n",
        "                row.append((pix[width,height]))\n",
        "        image_matrix.append(row)\n",
        "    return image_matrix, image_size[0], image_size[1],color"
      ]
    },
    {
      "cell_type": "code",
      "execution_count": null,
      "metadata": {
        "id": "qWbbYkBLzWrd"
      },
      "outputs": [],
      "source": [
        "def getImageMatrix_gray(imageName):\n",
        "    im = Image.open(imageName).convert('LA')\n",
        "    pix = im.load()\n",
        "    image_size = im.size\n",
        "    image_matrix = []\n",
        "    for width in range(int(image_size[0])):\n",
        "        row = []\n",
        "        for height in range(int(image_size[1])):\n",
        "                row.append((pix[width,height]))\n",
        "        image_matrix.append(row)\n",
        "    return image_matrix, image_size[0], image_size[1],color"
      ]
    },
    {
      "cell_type": "code",
      "execution_count": null,
      "metadata": {
        "id": "_-URJFlwza0C"
      },
      "outputs": [],
      "source": [
        "def ArnoldCatTransform(img, num):\n",
        "    rows, cols, ch = img.shape\n",
        "    n = rows\n",
        "    img_arnold = np.zeros([rows, cols, ch])\n",
        "    for x in range(0, rows):\n",
        "        for y in range(0, cols):\n",
        "            img_arnold[x][y] = img[(x+y)%n][(x+2*y)%n]\n",
        "    return img_arnold\n"
      ]
    },
    {
      "cell_type": "code",
      "execution_count": null,
      "metadata": {
        "id": "GmIobfl3zfDI"
      },
      "outputs": [],
      "source": [
        "\n",
        "\n",
        "def ArnoldCatEncryption(imageName, key):\n",
        "    img = cv2.imread(imageName)\n",
        "    for i in range (0,key):\n",
        "        img = ArnoldCatTransform(img, i)\n",
        "    cv2.imwrite(imageName.split('.')[0] + \"_ArnoldcatEnc.png\", img)\n",
        "    return img\n",
        "\n"
      ]
    },
    {
      "cell_type": "code",
      "execution_count": null,
      "metadata": {
        "id": "J4VLhIa9zixh"
      },
      "outputs": [],
      "source": [
        "\n",
        "\n",
        "def ArnoldCatDecryption(imageName, key):\n",
        "    img = cv2.imread(imageName)\n",
        "    rows, cols, ch = img.shape\n",
        "    dimension = rows\n",
        "    decrypt_it = dimension\n",
        "    if (dimension%2==0) and 5**int(round(log(dimension/2,5))) == int(dimension/2):\n",
        "        decrypt_it = 3*dimension\n",
        "    elif 5**int(round(log(dimension,5))) == int(dimension):\n",
        "        decrypt_it = 2*dimension\n",
        "    elif (dimension%6==0) and  5**int(round(log(dimension/6,5))) == int(dimension/6):\n",
        "        decrypt_it = 2*dimension\n",
        "    else:\n",
        "        decrypt_it = int(12*dimension/7)\n",
        "    for i in range(key,decrypt_it):\n",
        "        img = ArnoldCatTransform(img, i)\n",
        "    cv2.imwrite(imageName.split('_')[0] + \"_ArnoldcatDec.png\",img)\n",
        "    return img\n",
        "\n"
      ]
    },
    {
      "cell_type": "code",
      "execution_count": null,
      "metadata": {
        "id": "PbP3EN5ElxS3"
      },
      "outputs": [],
      "source": [
        "image=\"sample1\"\n",
        "ext=\".png\"\n",
        "\n",
        "key = 20"
      ]
    },
    {
      "cell_type": "code",
      "execution_count": null,
      "metadata": {
        "id": "1lrXnRKIvdBq"
      },
      "outputs": [],
      "source": [
        "pil_im = Image.open(image + ext, 'r')\n",
        "imshow(np.asarray(pil_im), cmap='gray')"
      ]
    },
    {
      "cell_type": "code",
      "execution_count": null,
      "metadata": {
        "id": "uUoX0UPdmzwc"
      },
      "outputs": [],
      "source": [
        "import time\n",
        "start_time=time.time()"
      ]
    },
    {
      "cell_type": "code",
      "execution_count": null,
      "metadata": {
        "id": "V-wyyjp2l5fU"
      },
      "outputs": [],
      "source": [
        "ArnoldCatEncryptionIm = ArnoldCatEncryption(image + ext, key)\n",
        "cv2_imshow(ArnoldCatEncryptionIm)"
      ]
    },
    {
      "cell_type": "code",
      "execution_count": null,
      "metadata": {
        "id": "U8DcNwaBm3yx"
      },
      "outputs": [],
      "source": [
        "end_time = time.time()\n",
        "total_time = end_time - start_time\n",
        "print(\"Time: \", total_time)"
      ]
    },
    {
      "cell_type": "code",
      "execution_count": null,
      "metadata": {
        "id": "NqYzsxkpl7yq"
      },
      "outputs": [],
      "source": [
        "\n",
        "\n",
        "ArnoldCatDecryptionIm = ArnoldCatDecryption(image + \"_ArnoldcatEnc.png\", 20)\n",
        "cv2_imshow(ArnoldCatDecryptionIm)\n",
        "\n"
      ]
    },
    {
      "cell_type": "code",
      "execution_count": null,
      "metadata": {
        "id": "m35CHRiAZgNW"
      },
      "outputs": [],
      "source": [
        "import skimage.measure\n",
        "entropy = skimage.measure.shannon_entropy(im)\n",
        "print(entropy)"
      ]
    },
    {
      "cell_type": "code",
      "execution_count": null,
      "metadata": {
        "id": "2is4YLbqnC7i"
      },
      "outputs": [],
      "source": [
        "import skimage.measure\n",
        "entropy1 = skimage.measure.shannon_entropy(ArnoldCatEncryptionIm)\n",
        "print(entropy1)"
      ]
    },
    {
      "cell_type": "code",
      "execution_count": null,
      "metadata": {
        "id": "h5lyw6pQnK-5"
      },
      "outputs": [],
      "source": [
        "import skimage.measure\n",
        "entropy2 = skimage.measure.shannon_entropy(ArnoldCatDecryptionIm)\n",
        "print(entropy2)"
      ]
    },
    {
      "cell_type": "code",
      "execution_count": null,
      "metadata": {
        "id": "sZTotKvXnceJ"
      },
      "outputs": [],
      "source": [
        "img1=cv2.imread('sample1_ArnoldcatEnc.png')\n",
        "img2=cv2.imread('sample1_ArnoldcatDec.png')"
      ]
    },
    {
      "cell_type": "code",
      "execution_count": null,
      "metadata": {
        "id": "zJLhOCWrxTIr"
      },
      "outputs": [],
      "source": [
        "img = cv2.imread(image + ext)\n",
        "cv2_imshow(img)"
      ]
    },
    {
      "cell_type": "code",
      "execution_count": null,
      "metadata": {
        "id": "6nEAGZuWnrs5"
      },
      "outputs": [],
      "source": [
        "psnr = cv2.PSNR(img, img1)\n",
        "print(psnr)"
      ]
    },
    {
      "cell_type": "code",
      "execution_count": null,
      "metadata": {
        "id": "N5xEqMx3nsi1"
      },
      "outputs": [],
      "source": [
        "psnr1 = cv2.PSNR(img1, img2)\n",
        "print(psnr1)"
      ]
    },
    {
      "cell_type": "code",
      "execution_count": null,
      "metadata": {
        "id": "mmGXDSPnxM_V"
      },
      "outputs": [],
      "source": []
    }
  ],
  "metadata": {
    "colab": {
      "provenance": [],
      "include_colab_link": true
    },
    "kernelspec": {
      "display_name": "Python 3",
      "name": "python3"
    },
    "language_info": {
      "name": "python"
    }
  },
  "nbformat": 4,
  "nbformat_minor": 0
}