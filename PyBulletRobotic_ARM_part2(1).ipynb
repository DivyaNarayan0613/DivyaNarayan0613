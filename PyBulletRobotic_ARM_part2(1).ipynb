{
  "cells": [
    {
      "cell_type": "markdown",
      "metadata": {
        "id": "view-in-github",
        "colab_type": "text"
      },
      "source": [
        "<a href=\"https://colab.research.google.com/github/DivyaNarayan0613/DivyaNarayan0613/blob/main/PyBulletRobotic_ARM_part2(1).ipynb\" target=\"_parent\"><img src=\"https://colab.research.google.com/assets/colab-badge.svg\" alt=\"Open In Colab\"/></a>"
      ]
    },
    {
      "cell_type": "markdown",
      "id": "4bcd16cf-3ccd-46a3-96cc-15797153d738",
      "metadata": {
        "id": "4bcd16cf-3ccd-46a3-96cc-15797153d738"
      },
      "source": [
        "This program sets up a PyBullet physics simulation with a Franka Panda robot and oscillates some of its arm joints in a continuous loop.\n",
        "\n",
        "1️⃣ Import Required Libraries\n",
        "\n",
        "pybullet: Used for physics simulation.\n",
        "    \n",
        "pybullet_data: Provides access to built-in 3D models like plane.urdf and franka_panda.urdf.\n",
        "\n",
        "time: Used for simulation delay.\n",
        "\n",
        "math: Used to generate sinusoidal joint movements.\n",
        "\n",
        "\n",
        "2️⃣ Connect to PyBullet\n",
        "\n",
        "p.connect(p.GUI) - Starts a PyBullet simulation with a Graphical User Interface (GUI) so you can see the robot.\n",
        "\n",
        "3️⃣ Load the Simulation Environment\n",
        "\n",
        "p.setAdditionalSearchPath(pybullet_data.getDataPath()) → Allows loading predefined objects from PyBullet.\n",
        "\n",
        "p.loadURDF(\"plane.urdf\") → Adds a flat plane as the ground.\n",
        "    \n",
        "p.loadURDF(\"franka_panda/panda.urdf\", useFixedBase=True) → Loads the Franka Panda robot with a fixed base (it won’t move).\n",
        "\n",
        "4️⃣ Set Gravity in the Simulation\n",
        "\n",
        "p.setGravity(0, 0, -10)\n",
        "\n",
        "Defines gravity along the Z-axis (-10 m/s²).\n",
        "\n",
        "Ensures objects fall naturally in the environment.\n",
        "\n",
        "5️⃣ Print Joint Information\n",
        "\n",
        "print(\"Joint Information:\")\n",
        "for i in range(p.getNumJoints(robot)):\n",
        "    info = p.getJointInfo(robot, i)\n",
        "    print(f\"Joint {i}: Name={info[1].decode('utf-8')}, Type={info[2]}, Lower Limit={info[8]}, Upper Limit={info[9]}\")\n",
        "\n",
        "Gets details of each joint in the Franka Panda robot.\n",
        "Prints:\n",
        "\n",
        "    Joint index\n",
        "    Joint name\n",
        "    Joint type\n",
        "    Lower and upper limits (if applicable)\n",
        "Types:\n",
        "\n",
        "    0: Revolute (can rotate within limits)\n",
        "    1: Prismatic (can slide)\n",
        "    4: Fixed (does not move)\n",
        "\n",
        "6️⃣ Continuous Simulation Loop - Runs indefinitely to keep the simulation active.\n",
        "\n",
        "7️⃣ Calculate Joint Targets (Oscillating Motion)\n",
        "target_joint_1 = 0.5 * math.sin(t)\n",
        "target_joint_2 = 0.5 * math.cos(t)\n",
        "target_joint_3 = 0.25 * math.sin(t)\n",
        "\n",
        "Uses sinusoidal motion to oscillate the joints over time.\n",
        "\n",
        "    sin(t): Smoothly oscillates between -1 and 1.\n",
        "\n",
        "    cos(t): Similar but phase-shifted.\n",
        "\n",
        "    The coefficients (e.g., 0.5, 0.25) scale the amplitude of movement.\n",
        "\n",
        "8️⃣ Apply Joint Control\n",
        "p.setJointMotorControlArray(\n",
        "    robot,\n",
        "    jointIndices=[1, 2, 3],  # Select joints for movement\n",
        "    controlMode=p.POSITION_CONTROL,\n",
        "    targetPositions=[target_joint_1, target_joint_2, target_joint_3]\n",
        ")\n",
        "\n",
        "Moves the robot's arm joints using position control.\n",
        "\n",
        "Controls Joint 1, Joint 2, and Joint 3 (ignoring others for simplicity).\n",
        "\n",
        "9️⃣ Step the Simulation\n",
        "\n",
        "p.stepSimulation() → Updates physics calculations.\n",
        "\n",
        "time.sleep(1/240) → Maintains a simulation speed of 240 steps per second (matching PyBullet’s default FPS).\n"
      ]
    },
    {
      "cell_type": "code",
      "execution_count": null,
      "id": "c8c0fe89-0c02-4822-ac79-d564b0fd969d",
      "metadata": {
        "id": "c8c0fe89-0c02-4822-ac79-d564b0fd969d",
        "outputId": "69a2b144-4f0e-48e4-fb15-093b9cc0d134"
      },
      "outputs": [
        {
          "name": "stdout",
          "output_type": "stream",
          "text": [
            "Joint Information:\n",
            "Joint 0: Name=panda_joint1, Type=0, Lower Limit=-2.9671, Upper Limit=2.9671\n",
            "Joint 1: Name=panda_joint2, Type=0, Lower Limit=-1.8326, Upper Limit=1.8326\n",
            "Joint 2: Name=panda_joint3, Type=0, Lower Limit=-2.9671, Upper Limit=2.9671\n",
            "Joint 3: Name=panda_joint4, Type=0, Lower Limit=-3.1416, Upper Limit=0.0\n",
            "Joint 4: Name=panda_joint5, Type=0, Lower Limit=-2.9671, Upper Limit=2.9671\n",
            "Joint 5: Name=panda_joint6, Type=0, Lower Limit=-0.0873, Upper Limit=3.8223\n",
            "Joint 6: Name=panda_joint7, Type=0, Lower Limit=-2.9671, Upper Limit=2.9671\n",
            "Joint 7: Name=panda_joint8, Type=4, Lower Limit=0.0, Upper Limit=-1.0\n",
            "Joint 8: Name=panda_hand_joint, Type=4, Lower Limit=0.0, Upper Limit=-1.0\n",
            "Joint 9: Name=panda_finger_joint1, Type=1, Lower Limit=0.0, Upper Limit=0.04\n",
            "Joint 10: Name=panda_finger_joint2, Type=1, Lower Limit=0.0, Upper Limit=0.04\n",
            "Joint 11: Name=panda_grasptarget_hand, Type=4, Lower Limit=0.0, Upper Limit=-1.0\n"
          ]
        },
        {
          "ename": "error",
          "evalue": "Not connected to physics server.",
          "output_type": "error",
          "traceback": [
            "\u001b[1;31m---------------------------------------------------------------------------\u001b[0m",
            "\u001b[1;31merror\u001b[0m                                     Traceback (most recent call last)",
            "Cell \u001b[1;32mIn[1], line 32\u001b[0m\n\u001b[0;32m     29\u001b[0m target_joint_3 \u001b[38;5;241m=\u001b[39m \u001b[38;5;241m0.25\u001b[39m \u001b[38;5;241m*\u001b[39m math\u001b[38;5;241m.\u001b[39msin(t)\n\u001b[0;32m     31\u001b[0m \u001b[38;5;66;03m# Set joint positions\u001b[39;00m\n\u001b[1;32m---> 32\u001b[0m p\u001b[38;5;241m.\u001b[39msetJointMotorControlArray(\n\u001b[0;32m     33\u001b[0m     robot,\n\u001b[0;32m     34\u001b[0m     jointIndices\u001b[38;5;241m=\u001b[39m[\u001b[38;5;241m1\u001b[39m, \u001b[38;5;241m2\u001b[39m, \u001b[38;5;241m3\u001b[39m],  \u001b[38;5;66;03m# Revolute joints for the arm\u001b[39;00m\n\u001b[0;32m     35\u001b[0m     controlMode\u001b[38;5;241m=\u001b[39mp\u001b[38;5;241m.\u001b[39mPOSITION_CONTROL,\n\u001b[0;32m     36\u001b[0m     targetPositions\u001b[38;5;241m=\u001b[39m[target_joint_1, target_joint_2, target_joint_3]\n\u001b[0;32m     37\u001b[0m )\n\u001b[0;32m     39\u001b[0m \u001b[38;5;66;03m# Step simulation\u001b[39;00m\n\u001b[0;32m     40\u001b[0m p\u001b[38;5;241m.\u001b[39mstepSimulation()\n",
            "\u001b[1;31merror\u001b[0m: Not connected to physics server."
          ]
        }
      ],
      "source": [
        "import pybullet as p\n",
        "import pybullet_data\n",
        "import time\n",
        "import math\n",
        "\n",
        "# Connect to the PyBullet GUI\n",
        "p.connect(p.GUI)\n",
        "\n",
        "# Set up the simulation environment\n",
        "p.setAdditionalSearchPath(pybullet_data.getDataPath())\n",
        "plane = p.loadURDF(\"plane.urdf\")  # Load a flat plane\n",
        "robot = p.loadURDF(\"franka_panda/panda.urdf\", useFixedBase=True)  # Load Franka Panda robot with a fixed base\n",
        "\n",
        "# Set gravity in the simulation\n",
        "p.setGravity(0, 0, -10)\n",
        "\n",
        "# Print joint information for reference\n",
        "print(\"Joint Information:\")\n",
        "for i in range(p.getNumJoints(robot)):\n",
        "    info = p.getJointInfo(robot, i)\n",
        "    print(f\"Joint {i}: Name={info[1].decode('utf-8')}, Type={info[2]}, Lower Limit={info[8]}, Upper Limit={info[9]}\")\n",
        "\n",
        "# Simulation loop to move arm joints\n",
        "t = 0\n",
        "while True:\n",
        "    # Oscillate joint targets (only controlling revolute joints for the arm)\n",
        "    target_joint_1 = 0.5 * math.sin(t)\n",
        "    target_joint_2 = 0.5 * math.cos(t)\n",
        "    target_joint_3 = 0.25 * math.sin(t)\n",
        "\n",
        "    # Set joint positions\n",
        "    p.setJointMotorControlArray(\n",
        "        robot,\n",
        "        jointIndices=[1, 2, 3],  # Revolute joints for the arm\n",
        "        controlMode=p.POSITION_CONTROL,\n",
        "        targetPositions=[target_joint_1, target_joint_2, target_joint_3]\n",
        "    )\n",
        "\n",
        "    # Step simulation\n",
        "    p.stepSimulation()\n",
        "    time.sleep(1. / 240)\n",
        "\n",
        "    # Increment time\n",
        "    t += 0.01\n"
      ]
    },
    {
      "cell_type": "code",
      "execution_count": null,
      "id": "7774abee-ed64-4dcf-a867-055442431255",
      "metadata": {
        "id": "7774abee-ed64-4dcf-a867-055442431255"
      },
      "outputs": [],
      "source": []
    }
  ],
  "metadata": {
    "kernelspec": {
      "display_name": "Python 3 (ipykernel)",
      "language": "python",
      "name": "python3"
    },
    "language_info": {
      "codemirror_mode": {
        "name": "ipython",
        "version": 3
      },
      "file_extension": ".py",
      "mimetype": "text/x-python",
      "name": "python",
      "nbconvert_exporter": "python",
      "pygments_lexer": "ipython3",
      "version": "3.12.3"
    },
    "colab": {
      "provenance": [],
      "include_colab_link": true
    }
  },
  "nbformat": 4,
  "nbformat_minor": 5
}