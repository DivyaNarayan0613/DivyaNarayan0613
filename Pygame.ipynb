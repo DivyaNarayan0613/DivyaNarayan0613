{
  "cells": [
    {
      "cell_type": "markdown",
      "metadata": {
        "id": "view-in-github",
        "colab_type": "text"
      },
      "source": [
        "<a href=\"https://colab.research.google.com/github/DivyaNarayan0613/DivyaNarayan0613/blob/main/Pygame.ipynb\" target=\"_parent\"><img src=\"https://colab.research.google.com/assets/colab-badge.svg\" alt=\"Open In Colab\"/></a>"
      ]
    },
    {
      "cell_type": "code",
      "execution_count": null,
      "id": "4d0a0f5f-ea0b-4397-b0ed-d5b5292eaef5",
      "metadata": {
        "id": "4d0a0f5f-ea0b-4397-b0ed-d5b5292eaef5",
        "outputId": "526f905e-b49e-49f6-a7d1-9b79b3605d5d"
      },
      "outputs": [
        {
          "name": "stdout",
          "output_type": "stream",
          "text": [
            "Requirement already satisfied: pygame in c:\\users\\divya\\anaconda3\\lib\\site-packages (2.6.1)\n"
          ]
        }
      ],
      "source": [
        "!pip install pygame\n"
      ]
    },
    {
      "cell_type": "code",
      "execution_count": null,
      "id": "62eb9a14-b066-4587-828d-de783f87c6d1",
      "metadata": {
        "id": "62eb9a14-b066-4587-828d-de783f87c6d1",
        "outputId": "09675cd5-337d-4854-8dd1-d246ee519101"
      },
      "outputs": [
        {
          "name": "stdout",
          "output_type": "stream",
          "text": [
            "pygame 2.6.1 (SDL 2.28.4, Python 3.12.3)\n",
            "Hello from the pygame community. https://www.pygame.org/contribute.html\n"
          ]
        }
      ],
      "source": [
        "import pygame\n",
        "\n",
        "# Initialize pygame\n",
        "pygame.init()\n",
        "\n",
        "# Game Constants\n",
        "WIDTH, HEIGHT = 800, 600\n",
        "GRAVITY = 0.5\n",
        "PLAYER_JUMP = -12\n",
        "PLAYER_SPEED = 5\n",
        "\n",
        "# Colors\n",
        "WHITE = (255, 255, 255)\n",
        "BLUE = (0, 0, 255)\n",
        "GREEN = (0, 255, 0)\n",
        "\n",
        "# Set up display\n",
        "screen = pygame.display.set_mode((WIDTH, HEIGHT))\n",
        "pygame.display.set_caption(\"2D Platformer Game\")\n",
        "\n",
        "# Load player sprite\n",
        "player = pygame.Rect(50, 500, 40, 40)\n",
        "\n",
        "# Define platforms\n",
        "platforms = [\n",
        "    pygame.Rect(0, HEIGHT - 20, WIDTH, 20),  # Ground\n",
        "    pygame.Rect(150, 450, 100, 20),\n",
        "    pygame.Rect(300, 350, 150, 20),\n",
        "    pygame.Rect(500, 250, 100, 20),\n",
        "    pygame.Rect(700, 150, 100, 20)\n",
        "]\n",
        "\n",
        "# Goal (Finish Line)\n",
        "goal = pygame.Rect(750, 100, 50, 50)\n",
        "\n",
        "# Player physics\n",
        "velocity_y = 0\n",
        "on_ground = False\n",
        "\n",
        "# Game loop\n",
        "running = True\n",
        "clock = pygame.time.Clock()\n",
        "\n",
        "while running:\n",
        "    screen.fill(WHITE)  # Clear screen\n",
        "\n",
        "    # Event Handling\n",
        "    for event in pygame.event.get():\n",
        "        if event.type == pygame.QUIT:\n",
        "            running = False\n",
        "\n",
        "    # Player Controls\n",
        "    keys = pygame.key.get_pressed()\n",
        "    if keys[pygame.K_LEFT]:\n",
        "        player.x -= PLAYER_SPEED\n",
        "    if keys[pygame.K_RIGHT]:\n",
        "        player.x += PLAYER_SPEED\n",
        "    if keys[pygame.K_SPACE] and on_ground:\n",
        "        velocity_y = PLAYER_JUMP\n",
        "        on_ground = False  # Player is mid-air\n",
        "\n",
        "    # Apply gravity\n",
        "    velocity_y += GRAVITY\n",
        "    player.y += velocity_y\n",
        "\n",
        "    # Collision Detection\n",
        "    on_ground = False\n",
        "    for platform in platforms:\n",
        "        if player.colliderect(platform) and velocity_y > 0:\n",
        "            player.y = platform.y - player.height\n",
        "            velocity_y = 0\n",
        "            on_ground = True\n",
        "\n",
        "    # Check if player reached goal\n",
        "    if player.colliderect(goal):\n",
        "        print(\"You Win!\")\n",
        "        running = False  # End game\n",
        "\n",
        "    # Draw objects\n",
        "    pygame.draw.rect(screen, BLUE, player)  # Player\n",
        "    pygame.draw.rect(screen, GREEN, goal)  # Goal\n",
        "    for platform in platforms:\n",
        "        pygame.draw.rect(screen, (0, 0, 0), platform)  # Platforms\n",
        "\n",
        "    pygame.display.flip()\n",
        "    clock.tick(30)  # Limit FPS\n",
        "\n",
        "pygame.quit()\n"
      ]
    },
    {
      "cell_type": "code",
      "execution_count": null,
      "id": "1c17221e-cc89-485d-8f45-b037a4c86c03",
      "metadata": {
        "id": "1c17221e-cc89-485d-8f45-b037a4c86c03"
      },
      "outputs": [],
      "source": []
    }
  ],
  "metadata": {
    "kernelspec": {
      "display_name": "Python 3 (ipykernel)",
      "language": "python",
      "name": "python3"
    },
    "language_info": {
      "codemirror_mode": {
        "name": "ipython",
        "version": 3
      },
      "file_extension": ".py",
      "mimetype": "text/x-python",
      "name": "python",
      "nbconvert_exporter": "python",
      "pygments_lexer": "ipython3",
      "version": "3.12.3"
    },
    "colab": {
      "provenance": [],
      "include_colab_link": true
    }
  },
  "nbformat": 4,
  "nbformat_minor": 5
}