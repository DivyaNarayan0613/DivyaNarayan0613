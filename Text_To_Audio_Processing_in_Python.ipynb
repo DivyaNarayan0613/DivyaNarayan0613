{
  "nbformat": 4,
  "nbformat_minor": 0,
  "metadata": {
    "colab": {
      "provenance": [],
      "collapsed_sections": [],
      "authorship_tag": "ABX9TyMiMmOaouYkB6fL1GyTTnyi",
      "include_colab_link": true
    },
    "kernelspec": {
      "name": "python3",
      "display_name": "Python 3"
    },
    "language_info": {
      "name": "python"
    }
  },
  "cells": [
    {
      "cell_type": "markdown",
      "metadata": {
        "id": "view-in-github",
        "colab_type": "text"
      },
      "source": [
        "<a href=\"https://colab.research.google.com/github/DivyaNarayan0613/DivyaNarayan0613/blob/main/Text_To_Audio_Processing_in_Python.ipynb\" target=\"_parent\"><img src=\"https://colab.research.google.com/assets/colab-badge.svg\" alt=\"Open In Colab\"/></a>"
      ]
    },
    {
      "cell_type": "code",
      "execution_count": 43,
      "metadata": {
        "colab": {
          "base_uri": "https://localhost:8080/"
        },
        "id": "EWD7j4UQq3HN",
        "outputId": "9a0e0867-a005-42b5-c775-5e7fdb2455d0"
      },
      "outputs": [
        {
          "output_type": "stream",
          "name": "stdout",
          "text": [
            "Looking in indexes: https://pypi.org/simple, https://us-python.pkg.dev/colab-wheels/public/simple/\n",
            "Requirement already satisfied: gTTS in /usr/local/lib/python3.7/dist-packages (2.2.4)\n",
            "Requirement already satisfied: six in /usr/local/lib/python3.7/dist-packages (from gTTS) (1.15.0)\n",
            "Requirement already satisfied: click in /usr/local/lib/python3.7/dist-packages (from gTTS) (7.1.2)\n",
            "Requirement already satisfied: requests in /usr/local/lib/python3.7/dist-packages (from gTTS) (2.23.0)\n",
            "Requirement already satisfied: certifi>=2017.4.17 in /usr/local/lib/python3.7/dist-packages (from requests->gTTS) (2022.9.24)\n",
            "Requirement already satisfied: idna<3,>=2.5 in /usr/local/lib/python3.7/dist-packages (from requests->gTTS) (2.10)\n",
            "Requirement already satisfied: chardet<4,>=3.0.2 in /usr/local/lib/python3.7/dist-packages (from requests->gTTS) (3.0.4)\n",
            "Requirement already satisfied: urllib3!=1.25.0,!=1.25.1,<1.26,>=1.21.1 in /usr/local/lib/python3.7/dist-packages (from requests->gTTS) (1.24.3)\n"
          ]
        }
      ],
      "source": [
        "pip install gTTS"
      ]
    },
    {
      "cell_type": "code",
      "source": [
        "from gtts import gTTS"
      ],
      "metadata": {
        "id": "XuwI_JR2q7PY"
      },
      "execution_count": 44,
      "outputs": []
    },
    {
      "cell_type": "code",
      "source": [
        "import os"
      ],
      "metadata": {
        "id": "f-JdyvoXrHa1"
      },
      "execution_count": 45,
      "outputs": []
    },
    {
      "cell_type": "code",
      "source": [
        "mytext = \"I put my armor on, show you how strong how I am\""
      ],
      "metadata": {
        "id": "mRU7-32prI0p"
      },
      "execution_count": 46,
      "outputs": []
    },
    {
      "cell_type": "code",
      "source": [
        "language=\"en\""
      ],
      "metadata": {
        "id": "fYda_9TXrTuM"
      },
      "execution_count": 47,
      "outputs": []
    },
    {
      "cell_type": "code",
      "source": [
        "myobj = gTTS(text=mytext, lang=language, slow=False)"
      ],
      "metadata": {
        "id": "uPBZUbWPrXuD"
      },
      "execution_count": 48,
      "outputs": []
    },
    {
      "cell_type": "code",
      "source": [
        "myobj.save(\"welcome.mp3\")"
      ],
      "metadata": {
        "id": "qUM-nSdXrfnf"
      },
      "execution_count": 49,
      "outputs": []
    },
    {
      "cell_type": "code",
      "source": [
        "#\"welcome.mp3\""
      ],
      "metadata": {
        "colab": {
          "base_uri": "https://localhost:8080/",
          "height": 35
        },
        "id": "owqmM4zNrjLy",
        "outputId": "ddf1d60d-cf1a-4529-adf7-6a99c2119022"
      },
      "execution_count": 50,
      "outputs": [
        {
          "output_type": "execute_result",
          "data": {
            "text/plain": [
              "'welcome.mp3'"
            ],
            "application/vnd.google.colaboratory.intrinsic+json": {
              "type": "string"
            }
          },
          "metadata": {},
          "execution_count": 50
        }
      ]
    },
    {
      "cell_type": "code",
      "source": [
        "#pip install playsound"
      ],
      "metadata": {
        "id": "QtvFadB7sneC"
      },
      "execution_count": 51,
      "outputs": []
    },
    {
      "cell_type": "code",
      "source": [
        "#file=\"welcome.mp3\""
      ],
      "metadata": {
        "id": "Jk1Y9WZIRak4"
      },
      "execution_count": 52,
      "outputs": []
    },
    {
      "cell_type": "code",
      "source": [
        "from IPython.display import Audio"
      ],
      "metadata": {
        "id": "4IhluV6kSORj"
      },
      "execution_count": 53,
      "outputs": []
    },
    {
      "cell_type": "code",
      "source": [
        "wn = Audio('welcome.mp3', autoplay=True)"
      ],
      "metadata": {
        "id": "jWXeTWPuSaMp"
      },
      "execution_count": 54,
      "outputs": []
    },
    {
      "cell_type": "code",
      "source": [
        "display(wn)"
      ],
      "metadata": {
        "colab": {
          "base_uri": "https://localhost:8080/",
          "height": 61
        },
        "id": "oHyPvfD8SiDN",
        "outputId": "67f128ac-d805-480a-8121-ad7d5ac7a41f"
      },
      "execution_count": 55,
      "outputs": [
        {
          "output_type": "display_data",
          "data": {
            "text/plain": [
              "<IPython.lib.display.Audio object>"
            ],
            "text/html": [
              "\n",
              "                <audio  controls=\"controls\" autoplay=\"autoplay\">\n",
              "                    <source src=\"data:audio/mpeg;base64,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\" type=\"audio/mpeg\" />\n",
              "                    Your browser does not support the audio element.\n",
              "                </audio>\n",
              "              "
            ]
          },
          "metadata": {}
        }
      ]
    },
    {
      "cell_type": "code",
      "source": [],
      "metadata": {
        "id": "nOXrBudrsl1O"
      },
      "execution_count": 55,
      "outputs": []
    }
  ]
}