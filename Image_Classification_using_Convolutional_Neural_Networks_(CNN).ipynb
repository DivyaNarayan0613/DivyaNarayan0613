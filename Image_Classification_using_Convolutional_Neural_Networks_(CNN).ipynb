{
  "nbformat": 4,
  "nbformat_minor": 0,
  "metadata": {
    "colab": {
      "provenance": [],
      "gpuType": "T4",
      "authorship_tag": "ABX9TyNvVWw1fva9Qrh6wZAEHGwk",
      "include_colab_link": true
    },
    "kernelspec": {
      "name": "python3",
      "display_name": "Python 3"
    },
    "language_info": {
      "name": "python"
    },
    "accelerator": "GPU"
  },
  "cells": [
    {
      "cell_type": "markdown",
      "metadata": {
        "id": "view-in-github",
        "colab_type": "text"
      },
      "source": [
        "<a href=\"https://colab.research.google.com/github/DivyaNarayan0613/DivyaNarayan0613/blob/main/Image_Classification_using_Convolutional_Neural_Networks_(CNN).ipynb\" target=\"_parent\"><img src=\"https://colab.research.google.com/assets/colab-badge.svg\" alt=\"Open In Colab\"/></a>"
      ]
    },
    {
      "cell_type": "markdown",
      "source": [
        "This program builds and trains a Convolutional Neural Network (CNN) on the CIFAR-10 image classification dataset using TensorFlow Keras."
      ],
      "metadata": {
        "id": "4fxXzx_Rqhj6"
      }
    },
    {
      "cell_type": "markdown",
      "source": [
        "1. Import Required Libraries\n",
        "tensorflow is used for building and training the neural network.\n",
        "\n",
        "keras.layers and keras.models provide layers and architecture tools.\n",
        "\n",
        "cifar10 is a dataset of 60,000 32×32 color images in 10 classes (e.g., airplane, car, bird, etc.).\n",
        "\n",
        "matplotlib.pyplot is typically used for visualizations."
      ],
      "metadata": {
        "id": "O_kb9I1Hqn_J"
      }
    },
    {
      "cell_type": "markdown",
      "source": [
        "2. Load the CIFAR-10 Dataset\n",
        "Loads training and test images and labels.\n",
        "\n",
        "x_train: 50,000 training images\n",
        "\n",
        "x_test: 10,000 test images\n",
        "\n",
        "Labels are integers from 0 to 9 representing class categories"
      ],
      "metadata": {
        "id": "Pj7jk0FwqwZg"
      }
    },
    {
      "cell_type": "markdown",
      "source": [
        "3. Normalize the Image Pixel Values\n",
        "Pixel values range from 0 to 255. This scales them down to 0–1.\n",
        "\n",
        "Normalization helps the model learn faster and better."
      ],
      "metadata": {
        "id": "CV2kq_tlrWTo"
      }
    },
    {
      "cell_type": "markdown",
      "source": [
        "4. Build the CNN Model\n",
        "Conv2D: Extracts features from the image using filters.\n",
        "\n",
        "MaxPooling2D: Reduces the image size, keeping important features.\n",
        "\n",
        "Flatten: Converts the 2D feature maps to a 1D vector.\n",
        "\n",
        "Dense: Fully connected layers.\n",
        "\n",
        "Final layer has 10 units (one per class), without activation"
      ],
      "metadata": {
        "id": "S-VVrdtlrb3h"
      }
    },
    {
      "cell_type": "markdown",
      "source": [
        "5. Compile the Model\n",
        "Adam optimizer is used for learning weights.\n",
        "\n",
        "SparseCategoricalCrossentropy is used as loss function for multi-class classification.\n",
        "\n",
        "from_logits=True because the final layer does not have a softmax activation yet."
      ],
      "metadata": {
        "id": "UfMQqjjNriJy"
      }
    },
    {
      "cell_type": "markdown",
      "source": [
        "6. Train the Model\n",
        "The model is trained on training data (x_train, y_train) for 10 epochs.\n",
        "\n",
        "During training, it also evaluates on test data to check validation accuracy."
      ],
      "metadata": {
        "id": "dDZcShwyrnII"
      }
    },
    {
      "cell_type": "markdown",
      "source": [
        "7. Evaluate the Model\n",
        "After training, the model is evaluated on test data.\n",
        "\n",
        "It prints out the final accuracy on the unseen test set."
      ],
      "metadata": {
        "id": "Yt-K_CJIrrLR"
      }
    },
    {
      "cell_type": "code",
      "execution_count": null,
      "metadata": {
        "colab": {
          "base_uri": "https://localhost:8080/"
        },
        "id": "ROqVpBY0K9s4",
        "outputId": "13984cbc-f6bf-45b3-9bd7-d68ee893c719"
      },
      "outputs": [
        {
          "output_type": "stream",
          "name": "stdout",
          "text": [
            "Downloading data from https://www.cs.toronto.edu/~kriz/cifar-10-python.tar.gz\n",
            "\u001b[1m170498071/170498071\u001b[0m \u001b[32m━━━━━━━━━━━━━━━━━━━━\u001b[0m\u001b[37m\u001b[0m \u001b[1m3s\u001b[0m 0us/step\n"
          ]
        },
        {
          "output_type": "stream",
          "name": "stderr",
          "text": [
            "/usr/local/lib/python3.10/dist-packages/keras/src/layers/convolutional/base_conv.py:107: UserWarning: Do not pass an `input_shape`/`input_dim` argument to a layer. When using Sequential models, prefer using an `Input(shape)` object as the first layer in the model instead.\n",
            "  super().__init__(activity_regularizer=activity_regularizer, **kwargs)\n"
          ]
        },
        {
          "output_type": "stream",
          "name": "stdout",
          "text": [
            "Epoch 1/10\n",
            "\u001b[1m1563/1563\u001b[0m \u001b[32m━━━━━━━━━━━━━━━━━━━━\u001b[0m\u001b[37m\u001b[0m \u001b[1m13s\u001b[0m 5ms/step - accuracy: 0.3407 - loss: 1.7732 - val_accuracy: 0.5461 - val_loss: 1.2660\n",
            "Epoch 2/10\n",
            "\u001b[1m1563/1563\u001b[0m \u001b[32m━━━━━━━━━━━━━━━━━━━━\u001b[0m\u001b[37m\u001b[0m \u001b[1m13s\u001b[0m 3ms/step - accuracy: 0.5728 - loss: 1.2024 - val_accuracy: 0.6148 - val_loss: 1.0881\n",
            "Epoch 3/10\n",
            "\u001b[1m1563/1563\u001b[0m \u001b[32m━━━━━━━━━━━━━━━━━━━━\u001b[0m\u001b[37m\u001b[0m \u001b[1m4s\u001b[0m 3ms/step - accuracy: 0.6390 - loss: 1.0219 - val_accuracy: 0.6582 - val_loss: 0.9731\n",
            "Epoch 4/10\n",
            "\u001b[1m1563/1563\u001b[0m \u001b[32m━━━━━━━━━━━━━━━━━━━━\u001b[0m\u001b[37m\u001b[0m \u001b[1m5s\u001b[0m 3ms/step - accuracy: 0.6830 - loss: 0.9016 - val_accuracy: 0.6680 - val_loss: 0.9546\n",
            "Epoch 5/10\n",
            "\u001b[1m1563/1563\u001b[0m \u001b[32m━━━━━━━━━━━━━━━━━━━━\u001b[0m\u001b[37m\u001b[0m \u001b[1m10s\u001b[0m 3ms/step - accuracy: 0.7080 - loss: 0.8302 - val_accuracy: 0.6931 - val_loss: 0.8980\n",
            "Epoch 6/10\n",
            "\u001b[1m1563/1563\u001b[0m \u001b[32m━━━━━━━━━━━━━━━━━━━━\u001b[0m\u001b[37m\u001b[0m \u001b[1m5s\u001b[0m 3ms/step - accuracy: 0.7281 - loss: 0.7705 - val_accuracy: 0.6913 - val_loss: 0.8972\n",
            "Epoch 7/10\n",
            "\u001b[1m1563/1563\u001b[0m \u001b[32m━━━━━━━━━━━━━━━━━━━━\u001b[0m\u001b[37m\u001b[0m \u001b[1m4s\u001b[0m 3ms/step - accuracy: 0.7480 - loss: 0.7163 - val_accuracy: 0.7052 - val_loss: 0.8723\n",
            "Epoch 8/10\n",
            "\u001b[1m1563/1563\u001b[0m \u001b[32m━━━━━━━━━━━━━━━━━━━━\u001b[0m\u001b[37m\u001b[0m \u001b[1m5s\u001b[0m 3ms/step - accuracy: 0.7642 - loss: 0.6648 - val_accuracy: 0.7027 - val_loss: 0.8818\n",
            "Epoch 9/10\n",
            "\u001b[1m1563/1563\u001b[0m \u001b[32m━━━━━━━━━━━━━━━━━━━━\u001b[0m\u001b[37m\u001b[0m \u001b[1m5s\u001b[0m 3ms/step - accuracy: 0.7848 - loss: 0.6137 - val_accuracy: 0.7143 - val_loss: 0.8564\n",
            "Epoch 10/10\n",
            "\u001b[1m1563/1563\u001b[0m \u001b[32m━━━━━━━━━━━━━━━━━━━━\u001b[0m\u001b[37m\u001b[0m \u001b[1m4s\u001b[0m 3ms/step - accuracy: 0.8017 - loss: 0.5686 - val_accuracy: 0.7140 - val_loss: 0.8880\n",
            "\u001b[1m313/313\u001b[0m \u001b[32m━━━━━━━━━━━━━━━━━━━━\u001b[0m\u001b[37m\u001b[0m \u001b[1m1s\u001b[0m 2ms/step - accuracy: 0.7192 - loss: 0.8735\n",
            "Test accuracy: 0.7139999866485596\n"
          ]
        }
      ],
      "source": [
        "import tensorflow as tf\n",
        "from tensorflow.keras import layers, models\n",
        "from tensorflow.keras.datasets import cifar10\n",
        "import matplotlib.pyplot as plt\n",
        "\n",
        "# Load CIFAR-10 dataset\n",
        "(x_train, y_train), (x_test, y_test) = cifar10.load_data()\n",
        "\n",
        "# Normalize the images to [0, 1] range\n",
        "x_train, x_test = x_train / 255.0, x_test / 255.0\n",
        "\n",
        "# Build the CNN model\n",
        "model = models.Sequential([\n",
        "    layers.Conv2D(32, (3, 3), activation='relu', input_shape=(32, 32, 3)),\n",
        "    layers.MaxPooling2D((2, 2)),\n",
        "    layers.Conv2D(64, (3, 3), activation='relu'),\n",
        "    layers.MaxPooling2D((2, 2)),\n",
        "    layers.Conv2D(64, (3, 3), activation='relu'),\n",
        "    layers.Flatten(),\n",
        "    layers.Dense(64, activation='relu'),\n",
        "    layers.Dense(10)\n",
        "])\n",
        "\n",
        "# Compile the model\n",
        "model.compile(optimizer='adam',\n",
        "              loss=tf.keras.losses.SparseCategoricalCrossentropy(from_logits=True),\n",
        "              metrics=['accuracy'])\n",
        "\n",
        "# Train the model\n",
        "model.fit(x_train, y_train, epochs=10, validation_data=(x_test, y_test))\n",
        "\n",
        "# Evaluate the model\n",
        "test_loss, test_acc = model.evaluate(x_test, y_test)\n",
        "print(f'Test accuracy: {test_acc}')\n"
      ]
    },
    {
      "cell_type": "markdown",
      "source": [
        "Transfer Learning Concept\n",
        "\n",
        "Instead of training a CNN from scratch, we're using a pre-trained model (VGG16) that has already learned useful features from a large dataset (ImageNet). We then add new layers to adapt it to our own classification task (CIFAR-10 here)."
      ],
      "metadata": {
        "id": "lUlR8kwfr0R5"
      }
    },
    {
      "cell_type": "markdown",
      "source": [
        "1. Import Required Modules\n",
        "VGG16: A popular CNN architecture trained on ImageNet.\n",
        "\n",
        "We’ll use it here without its top (classification) layers."
      ],
      "metadata": {
        "id": "avvlKGIlttxn"
      }
    },
    {
      "cell_type": "markdown",
      "source": [
        "2. Load VGG16 Without the Top Layer\n",
        "weights='imagenet': Loads pretrained weights.\n",
        "\n",
        "include_top=False: Removes the fully connected layers from the original model.\n",
        "\n",
        "input_shape=(32, 32, 3): Fits CIFAR-10 image shape.\n",
        "\n",
        "Purpose: Use VGG16 as a feature extractor only."
      ],
      "metadata": {
        "id": "_SWKKdIpt0oA"
      }
    },
    {
      "cell_type": "markdown",
      "source": [
        "3. Freeze the VGG16 Layers\n",
        "Prevents updating VGG16 weights during training.\n",
        "\n",
        "Only the newly added layers (our custom classifier) will be trained."
      ],
      "metadata": {
        "id": "90nVJRRht8Zo"
      }
    },
    {
      "cell_type": "markdown",
      "source": [
        "4. Build a New Model on Top\n",
        "\n",
        "vgg_model: Acts as a feature extractor.\n",
        "\n",
        "Flatten(): Converts VGG16's output into a 1D vector.\n",
        "\n",
        "Dense(10, softmax): Final classifier layer for 10 CIFAR-10 classes."
      ],
      "metadata": {
        "id": "quuy8QV7w4UI"
      }
    },
    {
      "cell_type": "markdown",
      "source": [
        "5. Compile the Model\n",
        "\n",
        "adam: Optimizer.\n",
        "\n",
        "sparse_categorical_crossentropy: Used since labels are integers (not one-hot encoded).\n",
        "\n",
        "accuracy: Monitors classification performance.\n"
      ],
      "metadata": {
        "id": "no-Iq65XxDFX"
      }
    },
    {
      "cell_type": "markdown",
      "source": [
        "6. Train the Model\n",
        "\n",
        "Trains only the final Dense layer (VGG16 is frozen).\n",
        "\n",
        "Monitors performance on test data after each epoch."
      ],
      "metadata": {
        "id": "WybQi-AoxJXf"
      }
    },
    {
      "cell_type": "code",
      "source": [
        "from tensorflow.keras.applications import VGG16\n",
        "from tensorflow.keras import layers, models\n",
        "\n",
        "# Load the VGG16 model without the top layer (for feature extraction)\n",
        "vgg_model = VGG16(weights='imagenet', include_top=False, input_shape=(32, 32, 3))\n",
        "\n",
        "# Freeze the VGG16 layers\n",
        "for layer in vgg_model.layers:\n",
        "    layer.trainable = False\n",
        "\n",
        "# Build a new model on top of VGG16\n",
        "model = models.Sequential([\n",
        "    vgg_model,\n",
        "    layers.Flatten(),\n",
        "    layers.Dense(10, activation='softmax')\n",
        "])\n",
        "\n",
        "# Compile the model\n",
        "model.compile(optimizer='adam', loss='sparse_categorical_crossentropy', metrics=['accuracy'])\n",
        "\n",
        "# Train the model\n",
        "model.fit(x_train, y_train, epochs=10, validation_data=(x_test, y_test))\n"
      ],
      "metadata": {
        "colab": {
          "base_uri": "https://localhost:8080/"
        },
        "id": "1tCtWrVnLsvp",
        "outputId": "21facb55-25be-429b-e1e3-7f425ffb6136"
      },
      "execution_count": null,
      "outputs": [
        {
          "output_type": "stream",
          "name": "stdout",
          "text": [
            "Downloading data from https://storage.googleapis.com/tensorflow/keras-applications/vgg16/vgg16_weights_tf_dim_ordering_tf_kernels_notop.h5\n",
            "\u001b[1m58889256/58889256\u001b[0m \u001b[32m━━━━━━━━━━━━━━━━━━━━\u001b[0m\u001b[37m\u001b[0m \u001b[1m0s\u001b[0m 0us/step\n",
            "Epoch 1/10\n",
            "\u001b[1m1563/1563\u001b[0m \u001b[32m━━━━━━━━━━━━━━━━━━━━\u001b[0m\u001b[37m\u001b[0m \u001b[1m19s\u001b[0m 10ms/step - accuracy: 0.4048 - loss: 1.7380 - val_accuracy: 0.5289 - val_loss: 1.3740\n",
            "Epoch 2/10\n",
            "\u001b[1m1563/1563\u001b[0m \u001b[32m━━━━━━━━━━━━━━━━━━━━\u001b[0m\u001b[37m\u001b[0m \u001b[1m12s\u001b[0m 8ms/step - accuracy: 0.5467 - loss: 1.3304 - val_accuracy: 0.5542 - val_loss: 1.2999\n",
            "Epoch 3/10\n",
            "\u001b[1m1563/1563\u001b[0m \u001b[32m━━━━━━━━━━━━━━━━━━━━\u001b[0m\u001b[37m\u001b[0m \u001b[1m13s\u001b[0m 8ms/step - accuracy: 0.5713 - loss: 1.2557 - val_accuracy: 0.5598 - val_loss: 1.2704\n",
            "Epoch 4/10\n",
            "\u001b[1m1563/1563\u001b[0m \u001b[32m━━━━━━━━━━━━━━━━━━━━\u001b[0m\u001b[37m\u001b[0m \u001b[1m13s\u001b[0m 8ms/step - accuracy: 0.5819 - loss: 1.2247 - val_accuracy: 0.5715 - val_loss: 1.2396\n",
            "Epoch 5/10\n",
            "\u001b[1m1563/1563\u001b[0m \u001b[32m━━━━━━━━━━━━━━━━━━━━\u001b[0m\u001b[37m\u001b[0m \u001b[1m13s\u001b[0m 8ms/step - accuracy: 0.5893 - loss: 1.1970 - val_accuracy: 0.5754 - val_loss: 1.2265\n",
            "Epoch 6/10\n",
            "\u001b[1m1563/1563\u001b[0m \u001b[32m━━━━━━━━━━━━━━━━━━━━\u001b[0m\u001b[37m\u001b[0m \u001b[1m22s\u001b[0m 9ms/step - accuracy: 0.5915 - loss: 1.1845 - val_accuracy: 0.5755 - val_loss: 1.2191\n",
            "Epoch 7/10\n",
            "\u001b[1m1563/1563\u001b[0m \u001b[32m━━━━━━━━━━━━━━━━━━━━\u001b[0m\u001b[37m\u001b[0m \u001b[1m19s\u001b[0m 8ms/step - accuracy: 0.5964 - loss: 1.1737 - val_accuracy: 0.5773 - val_loss: 1.2130\n",
            "Epoch 8/10\n",
            "\u001b[1m1563/1563\u001b[0m \u001b[32m━━━━━━━━━━━━━━━━━━━━\u001b[0m\u001b[37m\u001b[0m \u001b[1m21s\u001b[0m 9ms/step - accuracy: 0.6006 - loss: 1.1630 - val_accuracy: 0.5750 - val_loss: 1.2118\n",
            "Epoch 9/10\n",
            "\u001b[1m1563/1563\u001b[0m \u001b[32m━━━━━━━━━━━━━━━━━━━━\u001b[0m\u001b[37m\u001b[0m \u001b[1m13s\u001b[0m 8ms/step - accuracy: 0.6006 - loss: 1.1553 - val_accuracy: 0.5822 - val_loss: 1.2011\n",
            "Epoch 10/10\n",
            "\u001b[1m1563/1563\u001b[0m \u001b[32m━━━━━━━━━━━━━━━━━━━━\u001b[0m\u001b[37m\u001b[0m \u001b[1m13s\u001b[0m 8ms/step - accuracy: 0.6016 - loss: 1.1518 - val_accuracy: 0.5833 - val_loss: 1.2007\n"
          ]
        },
        {
          "output_type": "execute_result",
          "data": {
            "text/plain": [
              "<keras.src.callbacks.history.History at 0x78227ad18310>"
            ]
          },
          "metadata": {},
          "execution_count": 2
        }
      ]
    },
    {
      "cell_type": "markdown",
      "source": [
        "This code snippet is meant to visualize the filters (kernels) from the first convolutional layer of a neural network model (like VGG16 in this case)."
      ],
      "metadata": {
        "id": "1Pal_KafxR5N"
      }
    },
    {
      "cell_type": "markdown",
      "source": [
        "1. Get the First Convolutional Layer\n",
        "\n",
        "Accesses the first layer of the model — in your case, this is the VGG16 model.\n",
        "\n",
        "Since VGG16 is loaded with include_top=False, the first layer is a Conv2D layer\n"
      ],
      "metadata": {
        "id": "ZrbsCIDtxbz_"
      }
    },
    {
      "cell_type": "markdown",
      "source": [
        "2. Extract the Filter Weights\n",
        "\n",
        "layer.get_weights() returns a list: [weights, biases].\n",
        "\n",
        "filters will now be a 4D array of shape (filter_height, filter_width, input_channels, num_filters)."
      ],
      "metadata": {
        "id": "njaBKPPWxgOX"
      }
    },
    {
      "cell_type": "markdown",
      "source": [
        "3. Normalize the Filter Values for Visualization\n",
        "\n",
        "Pixel values must be between 0 and 1 for proper visualization.\n",
        "\n",
        "This scales the filter values to the [0, 1] range."
      ],
      "metadata": {
        "id": "Be_McP5DxlYn"
      }
    },
    {
      "cell_type": "markdown",
      "source": [
        "4. Visualize the First 6 Filters\n",
        "\n",
        "Creates a horizontal row of 6 subplots.\n",
        "\n",
        "Each filters[:, :, :, i] is the i-th filter.\n",
        "\n",
        "imshow(..., cmap='gray') shows it in grayscale.\n",
        "\n",
        "ax.axis('off') removes the axes for cleaner look."
      ],
      "metadata": {
        "id": "IYk1DGYzxqRg"
      }
    },
    {
      "cell_type": "code",
      "source": [
        "# Get the first convolutional layer's weights\n",
        "layer = model.layers[0]\n",
        "filters = layer.get_weights()[0]  # Only take the filter weights\n",
        "\n",
        "# Normalize the filters for visualization\n",
        "filters = (filters - filters.min()) / (filters.max() - filters.min())\n",
        "\n",
        "# Visualize the first 6 filters\n",
        "fig, axes = plt.subplots(1, 6, figsize=(15, 15))\n",
        "for i in range(6):\n",
        "    ax = axes[i]\n",
        "    ax.imshow(filters[:, :, :, i], cmap='gray')\n",
        "    ax.axis('off')\n",
        "plt.show()\n"
      ],
      "metadata": {
        "colab": {
          "base_uri": "https://localhost:8080/",
          "height": 203
        },
        "id": "y7WTXFSbM0i8",
        "outputId": "c7156c11-d9e9-4383-f8dc-ab93f5584d05"
      },
      "execution_count": null,
      "outputs": [
        {
          "output_type": "display_data",
          "data": {
            "text/plain": [
              "<Figure size 1500x1500 with 6 Axes>"
            ],
            "image/png": "[encoded data removed]"
          },
          "metadata": {}
        }
      ]
    },
    {
      "cell_type": "markdown",
      "source": [
        "To Improve Model Generalization\n",
        "\n",
        "Data augmentation creates modified versions of training images by applying transformations like rotation, zoom, and flip. This helps the model generalize better to unseen data."
      ],
      "metadata": {
        "id": "WotDCi61xzLY"
      }
    },
    {
      "cell_type": "code",
      "source": [
        "from tensorflow.keras.preprocessing.image import ImageDataGenerator\n",
        "\n",
        "# Create an ImageDataGenerator object with data augmentation\n",
        "datagen = ImageDataGenerator(\n",
        "    rotation_range=40,\n",
        "    width_shift_range=0.2,\n",
        "    height_shift_range=0.2,\n",
        "    shear_range=0.2,\n",
        "    zoom_range=0.2,\n",
        "    horizontal_flip=True,\n",
        "    fill_mode='nearest'\n",
        ")\n",
        "\n",
        "# Fit the generator on the training data\n",
        "datagen.fit(x_train)\n",
        "\n",
        "# Train the model with augmented data\n",
        "model.fit(datagen.flow(x_train, y_train, batch_size=32), epochs=10, validation_data=(x_test, y_test))\n"
      ],
      "metadata": {
        "colab": {
          "base_uri": "https://localhost:8080/"
        },
        "id": "iD3X0NrLNH3d",
        "outputId": "24aa7de5-47f8-4b77-8857-c4307c890add"
      },
      "execution_count": null,
      "outputs": [
        {
          "output_type": "stream",
          "name": "stdout",
          "text": [
            "Epoch 1/10\n",
            "\u001b[1m   1/1563\u001b[0m \u001b[37m━━━━━━━━━━━━━━━━━━━━\u001b[0m \u001b[1m4:32\u001b[0m 174ms/step - accuracy: 0.4375 - loss: 1.4111"
          ]
        },
        {
          "output_type": "stream",
          "name": "stderr",
          "text": [
            "/usr/local/lib/python3.10/dist-packages/keras/src/trainers/data_adapters/py_dataset_adapter.py:122: UserWarning: Your `PyDataset` class should call `super().__init__(**kwargs)` in its constructor. `**kwargs` can include `workers`, `use_multiprocessing`, `max_queue_size`. Do not pass these arguments to `fit()`, as they will be ignored.\n",
            "  self._warn_if_super_not_called()\n"
          ]
        },
        {
          "output_type": "stream",
          "name": "stdout",
          "text": [
            "\u001b[1m1563/1563\u001b[0m \u001b[32m━━━━━━━━━━━━━━━━━━━━\u001b[0m\u001b[37m\u001b[0m \u001b[1m43s\u001b[0m 27ms/step - accuracy: 0.4665 - loss: 1.5349 - val_accuracy: 0.5583 - val_loss: 1.2722\n",
            "Epoch 2/10\n",
            "\u001b[1m1563/1563\u001b[0m \u001b[32m━━━━━━━━━━━━━━━━━━━━\u001b[0m\u001b[37m\u001b[0m \u001b[1m43s\u001b[0m 27ms/step - accuracy: 0.4800 - loss: 1.4853 - val_accuracy: 0.5538 - val_loss: 1.2842\n",
            "Epoch 3/10\n",
            "\u001b[1m1563/1563\u001b[0m \u001b[32m━━━━━━━━━━━━━━━━━━━━\u001b[0m\u001b[37m\u001b[0m \u001b[1m82s\u001b[0m 27ms/step - accuracy: 0.4897 - loss: 1.4596 - val_accuracy: 0.5498 - val_loss: 1.2880\n",
            "Epoch 4/10\n",
            "\u001b[1m1563/1563\u001b[0m \u001b[32m━━━━━━━━━━━━━━━━━━━━\u001b[0m\u001b[37m\u001b[0m \u001b[1m44s\u001b[0m 28ms/step - accuracy: 0.4938 - loss: 1.4447 - val_accuracy: 0.5502 - val_loss: 1.2833\n",
            "Epoch 5/10\n",
            "\u001b[1m1563/1563\u001b[0m \u001b[32m━━━━━━━━━━━━━━━━━━━━\u001b[0m\u001b[37m\u001b[0m \u001b[1m43s\u001b[0m 27ms/step - accuracy: 0.4945 - loss: 1.4427 - val_accuracy: 0.5369 - val_loss: 1.3168\n",
            "Epoch 6/10\n",
            "\u001b[1m1563/1563\u001b[0m \u001b[32m━━━━━━━━━━━━━━━━━━━━\u001b[0m\u001b[37m\u001b[0m \u001b[1m82s\u001b[0m 28ms/step - accuracy: 0.4959 - loss: 1.4445 - val_accuracy: 0.5479 - val_loss: 1.2950\n",
            "Epoch 7/10\n",
            "\u001b[1m1563/1563\u001b[0m \u001b[32m━━━━━━━━━━━━━━━━━━━━\u001b[0m\u001b[37m\u001b[0m \u001b[1m82s\u001b[0m 28ms/step - accuracy: 0.4966 - loss: 1.4350 - val_accuracy: 0.5386 - val_loss: 1.3132\n",
            "Epoch 8/10\n",
            "\u001b[1m1563/1563\u001b[0m \u001b[32m━━━━━━━━━━━━━━━━━━━━\u001b[0m\u001b[37m\u001b[0m \u001b[1m82s\u001b[0m 27ms/step - accuracy: 0.4991 - loss: 1.4402 - val_accuracy: 0.5404 - val_loss: 1.3021\n",
            "Epoch 9/10\n",
            "\u001b[1m1563/1563\u001b[0m \u001b[32m━━━━━━━━━━━━━━━━━━━━\u001b[0m\u001b[37m\u001b[0m \u001b[1m43s\u001b[0m 27ms/step - accuracy: 0.5019 - loss: 1.4249 - val_accuracy: 0.5447 - val_loss: 1.2938\n",
            "Epoch 10/10\n",
            "\u001b[1m1563/1563\u001b[0m \u001b[32m━━━━━━━━━━━━━━━━━━━━\u001b[0m\u001b[37m\u001b[0m \u001b[1m81s\u001b[0m 27ms/step - accuracy: 0.4967 - loss: 1.4420 - val_accuracy: 0.5416 - val_loss: 1.3044\n"
          ]
        },
        {
          "output_type": "execute_result",
          "data": {
            "text/plain": [
              "<keras.src.callbacks.history.History at 0x782160f34850>"
            ]
          },
          "metadata": {},
          "execution_count": 6
        }
      ]
    },
    {
      "cell_type": "code",
      "source": [
        "test_loss, test_acc = model.evaluate(x_test, y_test)\n",
        "print(f'Test accuracy: {test_acc}')\n"
      ],
      "metadata": {
        "colab": {
          "base_uri": "https://localhost:8080/"
        },
        "id": "9dvsi4uoQJmG",
        "outputId": "95426dc4-c19b-472a-dd07-8c9a3bfcd3fb"
      },
      "execution_count": null,
      "outputs": [
        {
          "output_type": "stream",
          "name": "stdout",
          "text": [
            "\u001b[1m313/313\u001b[0m \u001b[32m━━━━━━━━━━━━━━━━━━━━\u001b[0m\u001b[37m\u001b[0m \u001b[1m2s\u001b[0m 8ms/step - accuracy: 0.5375 - loss: 1.3076\n",
            "Test accuracy: 0.5415999889373779\n"
          ]
        }
      ]
    },
    {
      "cell_type": "code",
      "source": [
        "history = model.fit(datagen.flow(x_train, y_train, batch_size=32), epochs=10, validation_data=(x_test, y_test))\n",
        "\n",
        "# Plot the training and validation accuracy\n",
        "plt.plot(history.history['accuracy'], label='Training Accuracy')\n",
        "plt.plot(history.history['val_accuracy'], label='Validation Accuracy')\n",
        "plt.xlabel('Epochs')\n",
        "plt.ylabel('Accuracy')\n",
        "plt.legend()\n",
        "plt.show()\n",
        "\n",
        "# Plot the training and validation loss\n",
        "plt.plot(history.history['loss'], label='Training Loss')\n",
        "plt.plot(history.history['val_loss'], label='Validation Loss')\n",
        "plt.xlabel('Epochs')\n",
        "plt.ylabel('Loss')\n",
        "plt.legend()\n",
        "plt.show()\n"
      ],
      "metadata": {
        "colab": {
          "base_uri": "https://localhost:8080/",
          "height": 1000
        },
        "id": "koJObiUcQWtI",
        "outputId": "683e7f60-82cd-4751-9f0f-dbcba115a06e"
      },
      "execution_count": null,
      "outputs": [
        {
          "output_type": "stream",
          "name": "stdout",
          "text": [
            "Epoch 1/10\n",
            "\u001b[1m1563/1563\u001b[0m \u001b[32m━━━━━━━━━━━━━━━━━━━━\u001b[0m\u001b[37m\u001b[0m \u001b[1m44s\u001b[0m 28ms/step - accuracy: 0.5047 - loss: 1.4238 - val_accuracy: 0.5433 - val_loss: 1.3008\n",
            "Epoch 2/10\n",
            "\u001b[1m1563/1563\u001b[0m \u001b[32m━━━━━━━━━━━━━━━━━━━━\u001b[0m\u001b[37m\u001b[0m \u001b[1m81s\u001b[0m 27ms/step - accuracy: 0.5041 - loss: 1.4299 - val_accuracy: 0.5481 - val_loss: 1.2883\n",
            "Epoch 3/10\n",
            "\u001b[1m1563/1563\u001b[0m \u001b[32m━━━━━━━━━━━━━━━━━━━━\u001b[0m\u001b[37m\u001b[0m \u001b[1m43s\u001b[0m 27ms/step - accuracy: 0.4932 - loss: 1.4523 - val_accuracy: 0.5263 - val_loss: 1.3374\n",
            "Epoch 4/10\n",
            "\u001b[1m1563/1563\u001b[0m \u001b[32m━━━━━━━━━━━━━━━━━━━━\u001b[0m\u001b[37m\u001b[0m \u001b[1m44s\u001b[0m 28ms/step - accuracy: 0.5003 - loss: 1.4288 - val_accuracy: 0.5402 - val_loss: 1.3100\n",
            "Epoch 5/10\n",
            "\u001b[1m1563/1563\u001b[0m \u001b[32m━━━━━━━━━━━━━━━━━━━━\u001b[0m\u001b[37m\u001b[0m \u001b[1m42s\u001b[0m 27ms/step - accuracy: 0.5041 - loss: 1.4242 - val_accuracy: 0.5430 - val_loss: 1.3019\n",
            "Epoch 6/10\n",
            "\u001b[1m1563/1563\u001b[0m \u001b[32m━━━━━━━━━━━━━━━━━━━━\u001b[0m\u001b[37m\u001b[0m \u001b[1m44s\u001b[0m 28ms/step - accuracy: 0.5018 - loss: 1.4276 - val_accuracy: 0.5430 - val_loss: 1.2958\n",
            "Epoch 7/10\n",
            "\u001b[1m1563/1563\u001b[0m \u001b[32m━━━━━━━━━━━━━━━━━━━━\u001b[0m\u001b[37m\u001b[0m \u001b[1m81s\u001b[0m 27ms/step - accuracy: 0.4992 - loss: 1.4282 - val_accuracy: 0.5406 - val_loss: 1.3051\n",
            "Epoch 8/10\n",
            "\u001b[1m1563/1563\u001b[0m \u001b[32m━━━━━━━━━━━━━━━━━━━━\u001b[0m\u001b[37m\u001b[0m \u001b[1m42s\u001b[0m 27ms/step - accuracy: 0.5054 - loss: 1.4211 - val_accuracy: 0.5366 - val_loss: 1.3242\n",
            "Epoch 9/10\n",
            "\u001b[1m1563/1563\u001b[0m \u001b[32m━━━━━━━━━━━━━━━━━━━━\u001b[0m\u001b[37m\u001b[0m \u001b[1m43s\u001b[0m 27ms/step - accuracy: 0.5018 - loss: 1.4228 - val_accuracy: 0.5344 - val_loss: 1.3186\n",
            "Epoch 10/10\n",
            "\u001b[1m1563/1563\u001b[0m \u001b[32m━━━━━━━━━━━━━━━━━━━━\u001b[0m\u001b[37m\u001b[0m \u001b[1m83s\u001b[0m 28ms/step - accuracy: 0.5003 - loss: 1.4322 - val_accuracy: 0.5333 - val_loss: 1.3237\n"
          ]
        },
        {
          "output_type": "display_data",
          "data": {
            "text/plain": [
              "<Figure size 640x480 with 1 Axes>"
            ],
            "image/png": "[encoded data removed]"
          },
          "metadata": {}
        },
        {
          "output_type": "display_data",
          "data": {
            "text/plain": [
              "<Figure size 640x480 with 1 Axes>"
            ],
            "image/png": "[encoded data removed]"
          },
          "metadata": {}
        }
      ]
    }
  ]
}