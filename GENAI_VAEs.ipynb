{
  "nbformat": 4,
  "nbformat_minor": 0,
  "metadata": {
    "colab": {
      "provenance": [],
      "gpuType": "T4",
      "authorship_tag": "ABX9TyOiBUdr202O8TAGxexpEJcy",
      "include_colab_link": true
    },
    "kernelspec": {
      "name": "python3",
      "display_name": "Python 3"
    },
    "language_info": {
      "name": "python"
    },
    "accelerator": "GPU"
  },
  "cells": [
    {
      "cell_type": "markdown",
      "metadata": {
        "id": "view-in-github",
        "colab_type": "text"
      },
      "source": [
        "<a href=\"https://colab.research.google.com/github/DivyaNarayan0613/DivyaNarayan0613/blob/main/GENAI_VAEs.ipynb\" target=\"_parent\"><img src=\"https://colab.research.google.com/assets/colab-badge.svg\" alt=\"Open In Colab\"/></a>"
      ]
    },
    {
      "cell_type": "markdown",
      "source": [
        "torch – The core PyTorch library for tensor computations, similar to NumPy but optimized for GPU acceleration.\n",
        "\n",
        "torch.nn – Provides modules and functions for building neural networks, including layers, activation functions, and loss functions.\n",
        "\n",
        "torch.optim – Contains optimization algorithms (e.g., SGD, Adam) used for training neural networks by adjusting model weights.\n",
        "\n",
        "torchvision.datasets – Provides access to popular datasets (like MNIST, CIFAR-10) and utilities for loading image data.\n",
        "\n",
        "torchvision.transforms – Offers data transformation utilities (e.g., normalization, resizing, augmentation) for preprocessing images.\n",
        "\n",
        "torch.utils.data.DataLoader – Facilitates efficient loading and batching of datasets, enabling parallel processing.\n",
        "\n",
        "matplotlib.pyplot – Used for visualizing data, such as plotting training loss curves or displaying images from the dataset.\n",
        "\n",
        "numpy – Provides numerical computing capabilities and array operations, often used for preprocessing and analysis."
      ],
      "metadata": {
        "id": "Tb7ePtOvndOz"
      }
    },
    {
      "cell_type": "code",
      "execution_count": null,
      "metadata": {
        "id": "8CHvDeStspSR"
      },
      "outputs": [],
      "source": [
        "# Import required libraries\n",
        "import torch\n",
        "import torch.nn as nn\n",
        "import torch.optim as optim\n",
        "from torchvision import datasets, transforms\n",
        "from torch.utils.data import DataLoader\n",
        "import matplotlib.pyplot as plt\n",
        "import numpy as np\n"
      ]
    },
    {
      "cell_type": "markdown",
      "source": [
        "torch.cuda.is_available(): Checks if a compatible NVIDIA GPU is available and if PyTorch has CUDA support enabled.\n",
        "If True → Uses \"cuda\" (GPU) for faster computations.\n",
        "If False → Falls back to \"cpu\" (slower but works universally).\n",
        "\n",
        "GPU acceleration: Deep learning models train much faster on GPUs due to parallel processing.\n",
        "\n",
        "Portability: This approach makes your code flexible—it will automatically use a GPU if available, otherwise, it runs on the CPU."
      ],
      "metadata": {
        "id": "RYfXBwKUngQ4"
      }
    },
    {
      "cell_type": "code",
      "source": [
        "# Check device (GPU recommended)\n",
        "device = torch.device(\"cuda\" if torch.cuda.is_available() else \"cpu\")\n",
        "print(f\"Using device: {device}\")"
      ],
      "metadata": {
        "colab": {
          "base_uri": "https://localhost:8080/"
        },
        "id": "KSl4zcicstEp",
        "outputId": "c5703c22-50a0-4ae5-d456-6fb932e0246a"
      },
      "execution_count": null,
      "outputs": [
        {
          "output_type": "stream",
          "name": "stdout",
          "text": [
            "Using device: cuda\n"
          ]
        }
      ]
    },
    {
      "cell_type": "markdown",
      "source": [
        "latent_dim = 100\n",
        "\n",
        "    This represents the dimension of the noise vector (z), typically used in GANs.\n",
        "    The generator takes this as input to produce realistic-looking images.\n",
        "\n",
        "batch_size = 128\n",
        "\n",
        "    Determines how many samples are processed before updating the model weights.\n",
        "    A larger batch size can stabilize training but requires more memory.\n",
        "\n",
        "lr = 0.0002 (Learning Rate)\n",
        "\n",
        "    Controls how much the model’s weights change at each step.\n",
        "    A value of 0.0002 is commonly used in GANs (e.g., DCGAN).\n",
        "    Too high → Model might not converge.\n",
        "    Too low → Training might be too slow.\n",
        "\n",
        "epochs = 50\n",
        "\n",
        "    The number of times the entire dataset is passed through the model.\n",
        "    More epochs allow the model to learn better, but too many can lead to overfitting."
      ],
      "metadata": {
        "id": "ifP62M2vn9eY"
      }
    },
    {
      "cell_type": "code",
      "source": [
        "# Define hyperparameters\n",
        "latent_dim = 100    # Dimension of the noise vector\n",
        "batch_size = 128    # Batch size\n",
        "lr = 0.0002         # Learning rate\n",
        "epochs = 50         # Number of epochs\n"
      ],
      "metadata": {
        "id": "3SG1bEvlsvNJ"
      },
      "execution_count": null,
      "outputs": []
    },
    {
      "cell_type": "markdown",
      "source": [
        "transforms.ToTensor() → Converts the image to a PyTorch tensor (shape: [C, H, W], values in [0,1]).\n",
        "transforms.Normalize([0.5], [0.5]) → Normalizes pixel values to [-1, 1].\n",
        "\n",
        "    Original pixel values: [0, 255]\n",
        "    After .ToTensor(): [0, 1]\n",
        "    Normalization formula: (x - mean) / std → (x - 0.5) / 0.5 → results in values between -1 and 1\n",
        "    This is often used in GANs (e.g., DCGAN) since Tanh activation performs better with normalized inputs"
      ],
      "metadata": {
        "id": "qvZZun67oHtC"
      }
    },
    {
      "cell_type": "markdown",
      "source": [
        "datasets.MNIST → Loads the MNIST dataset (handwritten digit images, 28x28, grayscale).\n",
        "\n",
        "root=\"./data\" → Saves the dataset in the ./data directory.\n",
        "\n",
        "train=True → Loads the training set (if False, loads test set).\n",
        "\n",
        "transform=transform → Applies the defined transformations (ToTensor and Normalize).\n",
        "\n",
        "download=True → Downloads the dataset if not already available."
      ],
      "metadata": {
        "id": "NfUDhEFOoJ6q"
      }
    },
    {
      "cell_type": "markdown",
      "source": [
        "DataLoader → Efficiently loads data in batches for training.\n",
        "\n",
        "batch_size=batch_size → Loads 128 samples per batch (as set earlier).\n",
        "\n",
        "shuffle=True → Shuffles the dataset each epoch to improve training performance."
      ],
      "metadata": {
        "id": "gcAxnQtGoQc6"
      }
    },
    {
      "cell_type": "code",
      "source": [
        "# Load MNIST dataset\n",
        "transform = transforms.Compose([\n",
        "    transforms.ToTensor(),\n",
        "    transforms.Normalize([0.5], [0.5])  # Normalize to [-1, 1]\n",
        "])\n",
        "mnist_data = datasets.MNIST(root=\"./data\", train=True, transform=transform, download=True)\n",
        "data_loader = DataLoader(mnist_data, batch_size=batch_size, shuffle=True)\n"
      ],
      "metadata": {
        "colab": {
          "base_uri": "https://localhost:8080/"
        },
        "id": "kVMhJjDgsxk4",
        "outputId": "29eb5b31-5ed8-4995-9113-925d2fc94de3"
      },
      "execution_count": null,
      "outputs": [
        {
          "output_type": "stream",
          "name": "stdout",
          "text": [
            "Downloading http://yann.lecun.com/exdb/mnist/train-images-idx3-ubyte.gz\n",
            "Failed to download (trying next):\n",
            "HTTP Error 403: Forbidden\n",
            "\n",
            "Downloading https://ossci-datasets.s3.amazonaws.com/mnist/train-images-idx3-ubyte.gz\n",
            "Downloading https://ossci-datasets.s3.amazonaws.com/mnist/train-images-idx3-ubyte.gz to ./data/MNIST/raw/train-images-idx3-ubyte.gz\n"
          ]
        },
        {
          "output_type": "stream",
          "name": "stderr",
          "text": [
            "100%|██████████| 9.91M/9.91M [00:00<00:00, 16.2MB/s]\n"
          ]
        },
        {
          "output_type": "stream",
          "name": "stdout",
          "text": [
            "Extracting ./data/MNIST/raw/train-images-idx3-ubyte.gz to ./data/MNIST/raw\n",
            "\n",
            "Downloading http://yann.lecun.com/exdb/mnist/train-labels-idx1-ubyte.gz\n",
            "Failed to download (trying next):\n",
            "HTTP Error 403: Forbidden\n",
            "\n",
            "Downloading https://ossci-datasets.s3.amazonaws.com/mnist/train-labels-idx1-ubyte.gz\n",
            "Downloading https://ossci-datasets.s3.amazonaws.com/mnist/train-labels-idx1-ubyte.gz to ./data/MNIST/raw/train-labels-idx1-ubyte.gz\n"
          ]
        },
        {
          "output_type": "stream",
          "name": "stderr",
          "text": [
            "100%|██████████| 28.9k/28.9k [00:00<00:00, 491kB/s]\n"
          ]
        },
        {
          "output_type": "stream",
          "name": "stdout",
          "text": [
            "Extracting ./data/MNIST/raw/train-labels-idx1-ubyte.gz to ./data/MNIST/raw\n",
            "\n",
            "Downloading http://yann.lecun.com/exdb/mnist/t10k-images-idx3-ubyte.gz\n",
            "Failed to download (trying next):\n",
            "HTTP Error 403: Forbidden\n",
            "\n",
            "Downloading https://ossci-datasets.s3.amazonaws.com/mnist/t10k-images-idx3-ubyte.gz\n",
            "Downloading https://ossci-datasets.s3.amazonaws.com/mnist/t10k-images-idx3-ubyte.gz to ./data/MNIST/raw/t10k-images-idx3-ubyte.gz\n"
          ]
        },
        {
          "output_type": "stream",
          "name": "stderr",
          "text": [
            "100%|██████████| 1.65M/1.65M [00:00<00:00, 4.44MB/s]\n"
          ]
        },
        {
          "output_type": "stream",
          "name": "stdout",
          "text": [
            "Extracting ./data/MNIST/raw/t10k-images-idx3-ubyte.gz to ./data/MNIST/raw\n",
            "\n",
            "Downloading http://yann.lecun.com/exdb/mnist/t10k-labels-idx1-ubyte.gz\n",
            "Failed to download (trying next):\n",
            "HTTP Error 403: Forbidden\n",
            "\n",
            "Downloading https://ossci-datasets.s3.amazonaws.com/mnist/t10k-labels-idx1-ubyte.gz\n",
            "Downloading https://ossci-datasets.s3.amazonaws.com/mnist/t10k-labels-idx1-ubyte.gz to ./data/MNIST/raw/t10k-labels-idx1-ubyte.gz\n"
          ]
        },
        {
          "output_type": "stream",
          "name": "stderr",
          "text": [
            "100%|██████████| 4.54k/4.54k [00:00<00:00, 4.15MB/s]"
          ]
        },
        {
          "output_type": "stream",
          "name": "stdout",
          "text": [
            "Extracting ./data/MNIST/raw/t10k-labels-idx1-ubyte.gz to ./data/MNIST/raw\n",
            "\n"
          ]
        },
        {
          "output_type": "stream",
          "name": "stderr",
          "text": [
            "\n"
          ]
        }
      ]
    },
    {
      "cell_type": "markdown",
      "source": [
        "A VAE is a type of neural network that combines ideas from:\n",
        "\n",
        "    Autoencoders: Used for learning a compressed representation (encoding) of data.\n",
        "    Probabilistic Modeling: Learns to approximate the data distribution and generate new samples.\n",
        "\n",
        "It has two main components:\n",
        "\n",
        "    Encoder: Encodes input into a latent space (a distribution).\n",
        "    Decoder: Reconstructs the input from the latent space.\n",
        "\n",
        "The VAE class inherits from nn.Module and has three main components:\n",
        "\n",
        "    Encoder\n",
        "    Latent Space\n",
        "    Decoder\n",
        "\n"
      ],
      "metadata": {
        "id": "5B-SoGP-GTpG"
      }
    },
    {
      "cell_type": "markdown",
      "source": [
        "# **Encoder**\n",
        "\n",
        "self.encoder = nn.Sequential(\n",
        "    nn.Linear(28 * 28, 400),\n",
        "    nn.ReLU()\n",
        ")\n",
        "\n",
        "self.fc_mu = nn.Linear(400, latent_dim)  # Mean of latent distribution\n",
        "\n",
        "self.fc_logvar = nn.Linear(400, latent_dim)  # Log-variance of latent\n",
        "distribution\n",
        "\n",
        "The Encoder reduces the input dimension (flattened 28x28 image) to a hidden representation (h of size 400).\n",
        "\n",
        "Two separate linear layers (fc_mu and fc_logvar) compute:\n",
        "\n",
        "    mu: The mean of the latent distribution.\n",
        "    logvar: The logarithm of the variance of the latent distribution.\n",
        "\n",
        "This latent distribution is parameterized as a Gaussian distribution."
      ],
      "metadata": {
        "id": "M2dl9sfUG2nF"
      }
    },
    {
      "cell_type": "markdown",
      "source": [
        "# **Reparameterization Trick**\n",
        "\n",
        "def reparameterize(self, mu, logvar):\n",
        "\n",
        "    std = torch.exp(0.5 * logvar)\n",
        "\n",
        "    eps = torch.randn_like(std)\n",
        "\n",
        "    return mu + eps * std\n",
        "\n",
        "Instead of sampling directly from the latent distribution (which isn't differentiable), the reparameterization trick is used:\n",
        "\n",
        "    Compute std (standard deviation) from logvar.\n",
        "    Generate random noise eps from a standard normal distribution.\n",
        "    Combine them\n"
      ],
      "metadata": {
        "id": "kZyMXYF8HUYE"
      }
    },
    {
      "cell_type": "markdown",
      "source": [
        "Decoder reconstructs the input from the latent variable z."
      ],
      "metadata": {
        "id": "8Sl08JwQHuxQ"
      }
    },
    {
      "cell_type": "markdown",
      "source": [
        "Loss function balances reconstruction quality and regularization of the latent space."
      ],
      "metadata": {
        "id": "uC2VU2JGHv8g"
      }
    },
    {
      "cell_type": "code",
      "source": [
        "# Define the VAE architecture\n",
        "class VAE(nn.Module):\n",
        "    def __init__(self):\n",
        "        super(VAE, self).__init__()\n",
        "        # Encoder\n",
        "        self.encoder = nn.Sequential(\n",
        "            nn.Linear(28 * 28, 400),\n",
        "            nn.ReLU()\n",
        "        )\n",
        "        self.fc_mu = nn.Linear(400, latent_dim)  # Mean of latent distribution\n",
        "        self.fc_logvar = nn.Linear(400, latent_dim)  # Log-variance of latent distribution\n",
        "\n",
        "        # Decoder\n",
        "        self.decoder = nn.Sequential(\n",
        "            nn.Linear(latent_dim, 400),\n",
        "            nn.ReLU(),\n",
        "            nn.Linear(400, 28 * 28),\n",
        "            nn.Tanh()  # Output normalized to [-1, 1]\n",
        "        )\n",
        "\n",
        "    def encode(self, x):\n",
        "        h = self.encoder(x)\n",
        "        mu = self.fc_mu(h)\n",
        "        logvar = self.fc_logvar(h)\n",
        "        return mu, logvar\n",
        "\n",
        "    def reparameterize(self, mu, logvar):\n",
        "        std = torch.exp(0.5 * logvar)\n",
        "        eps = torch.randn_like(std)\n",
        "        return mu + eps * std\n",
        "\n",
        "    def decode(self, z):\n",
        "        return self.decoder(z)\n",
        "\n",
        "    def forward(self, x):\n",
        "        mu, logvar = self.encode(x.view(-1, 28 * 28))\n",
        "        z = self.reparameterize(mu, logvar)\n",
        "        reconstructed = self.decode(z)\n",
        "        return reconstructed, mu, logvar\n",
        "\n",
        "# Loss function for VAE\n",
        "def vae_loss(reconstructed, original, mu, logvar):\n",
        "    # Reconstruction loss (Binary Cross-Entropy)\n",
        "    bce_loss = nn.functional.binary_cross_entropy_with_logits(reconstructed, original.view(-1, 28 * 28), reduction='sum')\n",
        "    # KL divergence\n",
        "    kl_divergence = -0.5 * torch.sum(1 + logvar - mu.pow(2) - logvar.exp())\n",
        "    return bce_loss + kl_divergence\n",
        "\n"
      ],
      "metadata": {
        "id": "T8UFhFlasz6y"
      },
      "execution_count": null,
      "outputs": []
    },
    {
      "cell_type": "code",
      "source": [
        "# Initialize model, optimizer\n",
        "vae = VAE().to(device)\n",
        "optimizer = optim.Adam(vae.parameters(), lr=lr)\n",
        "\n",
        "# Training loop\n",
        "for epoch in range(epochs):\n",
        "    vae.train()\n",
        "    train_loss = 0\n",
        "    for imgs, _ in data_loader:\n",
        "        imgs = imgs.to(device)\n",
        "        optimizer.zero_grad()\n",
        "        reconstructed, mu, logvar = vae(imgs)\n",
        "        loss = vae_loss(reconstructed, imgs, mu, logvar)\n",
        "        loss.backward()\n",
        "        train_loss += loss.item()\n",
        "        optimizer.step()\n",
        "\n",
        "    print(f\"Epoch [{epoch + 1}/{epochs}], Loss: {train_loss / len(data_loader.dataset):.4f}\")\n"
      ],
      "metadata": {
        "colab": {
          "base_uri": "https://localhost:8080/"
        },
        "id": "uHuAz0xt8Mi3",
        "outputId": "6a0a40dd-a371-485b-d361-6b25db65cb90"
      },
      "execution_count": null,
      "outputs": [
        {
          "output_type": "stream",
          "name": "stdout",
          "text": [
            "Epoch [1/50], Loss: -284.8522\n",
            "Epoch [2/50], Loss: -327.8985\n",
            "Epoch [3/50], Loss: -329.5570\n",
            "Epoch [4/50], Loss: -330.6255\n",
            "Epoch [5/50], Loss: -331.5967\n",
            "Epoch [6/50], Loss: -332.6011\n",
            "Epoch [7/50], Loss: -333.2634\n",
            "Epoch [8/50], Loss: -333.4425\n",
            "Epoch [9/50], Loss: -333.4845\n",
            "Epoch [10/50], Loss: -333.5014\n",
            "Epoch [11/50], Loss: -333.5097\n",
            "Epoch [12/50], Loss: -333.5149\n",
            "Epoch [13/50], Loss: -333.5181\n",
            "Epoch [14/50], Loss: -333.5203\n",
            "Epoch [15/50], Loss: -333.5220\n",
            "Epoch [16/50], Loss: -333.5232\n",
            "Epoch [17/50], Loss: -333.5241\n",
            "Epoch [18/50], Loss: -333.5248\n",
            "Epoch [19/50], Loss: -333.5253\n",
            "Epoch [20/50], Loss: -333.5257\n",
            "Epoch [21/50], Loss: -333.5261\n",
            "Epoch [22/50], Loss: -333.5263\n",
            "Epoch [23/50], Loss: -333.5265\n",
            "Epoch [24/50], Loss: -333.5267\n",
            "Epoch [25/50], Loss: -333.5268\n",
            "Epoch [26/50], Loss: -333.5269\n",
            "Epoch [27/50], Loss: -333.5269\n",
            "Epoch [28/50], Loss: -333.5270\n",
            "Epoch [29/50], Loss: -333.5270\n",
            "Epoch [30/50], Loss: -333.5271\n",
            "Epoch [31/50], Loss: -333.5271\n",
            "Epoch [32/50], Loss: -333.5271\n",
            "Epoch [33/50], Loss: -333.5271\n",
            "Epoch [34/50], Loss: -333.5272\n",
            "Epoch [35/50], Loss: -333.5272\n",
            "Epoch [36/50], Loss: -333.5272\n",
            "Epoch [37/50], Loss: -333.5272\n",
            "Epoch [38/50], Loss: -333.5272\n",
            "Epoch [39/50], Loss: -333.5272\n",
            "Epoch [40/50], Loss: -333.5272\n",
            "Epoch [41/50], Loss: -333.5272\n",
            "Epoch [42/50], Loss: -333.5272\n",
            "Epoch [43/50], Loss: -333.5272\n",
            "Epoch [44/50], Loss: -333.5272\n",
            "Epoch [45/50], Loss: -333.5272\n",
            "Epoch [46/50], Loss: -333.5272\n",
            "Epoch [47/50], Loss: -333.5272\n",
            "Epoch [48/50], Loss: -333.5272\n",
            "Epoch [49/50], Loss: -333.5272\n",
            "Epoch [50/50], Loss: -333.5272\n"
          ]
        }
      ]
    },
    {
      "cell_type": "markdown",
      "source": [
        "This snippet is used for generating new MNIST-like images using a trained Variational Autoencoder (VAE).\n",
        "\n",
        "1️⃣ Set Model to Evaluation Mode\n",
        "This switches the model to evaluation mode, disabling dropout and batch normalization updates.\n",
        "\n",
        "Ensures the model behaves consistently when generating images.\n",
        "\n",
        "2️⃣ Generate Random Latent Vectors\n",
        "torch.no_grad() → Disables gradient tracking to save memory (since we don’t need backpropagation for inference).\n",
        "\n",
        "torch.randn(16, latent_dim).to(device)\n",
        "\n",
        "    Generates 16 random latent vectors from a standard normal distribution (𝒩(0,1)).\n",
        "    latent_dim = 100 (from earlier) defines the dimensionality of the latent space.\n",
        "    .to(device) moves the tensor to the GPU (if available) for faster processing.\n",
        "\n",
        "3️⃣ Decode Latent Vectors into Images\n",
        "vae.decode(z) → Passes the latent vectors through the decoder part of the VAE to generate new images.\n",
        "\n",
        ".view(-1, 1, 28, 28) → Reshapes the output into MNIST format (1x28x28, grayscale images).\n",
        "\n",
        ".cpu() → Moves the tensor to CPU for visualization.    \n",
        "\n",
        "4️⃣ Rescale Pixel Values to [0, 1]\n",
        "Since the model outputs images in the [-1, 1] range (due to tanh activation and normalization), this rescales them back to [0, 1] for proper visualization.\n",
        "\n",
        "5️⃣ Plot the Generated Images\n",
        "Creates a 4×4 grid (16 images total) for visualization.\n",
        "\n",
        "axs[i, j].imshow(..., cmap=\"gray\") → Displays each generated image in grayscale.\n",
        ".squeeze() → Removes extra dimensions ([1, 28, 28] → [28, 28]).\n",
        "\n",
        ".axis(\"off\") → Hides axis ticks for a clean look.\n",
        "\n"
      ],
      "metadata": {
        "id": "VvPFxPu6opsR"
      }
    },
    {
      "cell_type": "code",
      "source": [
        "# Generate new images\n",
        "vae.eval()\n",
        "with torch.no_grad():\n",
        "    # Sample random latent vectors\n",
        "    z = torch.randn(16, latent_dim).to(device)\n",
        "    generated = vae.decode(z).view(-1, 1, 28, 28).cpu()\n",
        "    generated = (generated + 1) / 2  # Rescale to [0, 1]\n",
        "\n",
        "    # Plot generated images\n",
        "    fig, axs = plt.subplots(4, 4, figsize=(4, 4))\n",
        "    for i in range(4):\n",
        "        for j in range(4):\n",
        "            axs[i, j].imshow(generated[i * 4 + j].squeeze(), cmap=\"gray\")\n",
        "            axs[i, j].axis(\"off\")\n",
        "    plt.show()\n",
        "\n",
        "print(\"Image generation complete!\")\n",
        "\n"
      ],
      "metadata": {
        "colab": {
          "base_uri": "https://localhost:8080/",
          "height": 363
        },
        "id": "y_XZlfgn8S9_",
        "outputId": "7fb5fec2-87be-4c33-c9c7-9a301fa9e6e4"
      },
      "execution_count": null,
      "outputs": [
        {
          "output_type": "display_data",
          "data": {
            "text/plain": [
              "<Figure size 400x400 with 16 Axes>"
            ],
            "image/png": "[encoded data removed]"
          },
          "metadata": {}
        },
        {
          "output_type": "stream",
          "name": "stdout",
          "text": [
            "Image generation complete!\n"
          ]
        }
      ]
    }
  ]
}